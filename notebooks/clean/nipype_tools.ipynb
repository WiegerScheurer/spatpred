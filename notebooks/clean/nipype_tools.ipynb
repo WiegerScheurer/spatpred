{
 "cells": [
  {
   "cell_type": "code",
   "execution_count": null,
   "metadata": {},
   "outputs": [],
   "source": [
    "!{sys.executable} -m pip install nipype\n",
    "\n",
    "\n",
    "from os.path import abspath\n",
    "from nipype import Workflow, Node, MapNode, Function\n",
    "from nipype.interfaces.fsl import BET, IsotropicSmooth, ApplyMask, SliceTimer, MCFLIRT, Smooth\n",
    "from nilearn.plotting import plot_anat\n",
    "%matplotlib inline\n",
    "import matplotlib.pyplot as plt"
   ]
  },
  {
   "cell_type": "code",
   "execution_count": null,
   "metadata": {},
   "outputs": [],
   "source": [
    "# Initiate a node to correct for slice wise acquisition\n",
    "slicetimer = Node(SliceTimer(index_dir=False,\n",
    "                             interleaved=True,\n",
    "                             time_repetition=2.5),\n",
    "                  name=\"slicetimer\")\n",
    "\n",
    "# Initiate a node to correct for motion\n",
    "mcflirt = Node(MCFLIRT(mean_vol=True,\n",
    "                       save_plots=True),\n",
    "               name=\"mcflirt\")\n",
    "\n",
    "# Initiate a node to smooth functional images\n",
    "smooth = Node(Smooth(fwhm=4), name=\"smooth\")\n",
    "\n",
    "preproc01 = Workflow(name='preproc01', base_dir='.')\n"
   ]
  },
  {
   "cell_type": "code",
   "execution_count": null,
   "metadata": {},
   "outputs": [],
   "source": [
    "preproc01.connect([(slicetimer, mcflirt, [('slice_time_corrected_file', 'in_file')]),\n",
    "                   (mcflirt, smooth, [('out_file', 'in_file')])])"
   ]
  },
  {
   "cell_type": "code",
   "execution_count": null,
   "metadata": {},
   "outputs": [],
   "source": [
    "preproc01.write_graph(graph2use='orig')\n"
   ]
  }
 ],
 "metadata": {
  "language_info": {
   "name": "python"
  }
 },
 "nbformat": 4,
 "nbformat_minor": 2
}
