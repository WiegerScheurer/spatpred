{
 "cells": [
  {
   "cell_type": "code",
   "execution_count": 1,
   "metadata": {},
   "outputs": [
    {
     "name": "stdout",
     "output_type": "stream",
     "text": [
      "['/home/rfpred/notebooks/clean', '/home/rfpred/envs/rfenv/lib/python311.zip', '/home/rfpred/envs/rfenv/lib/python3.11', '/home/rfpred/envs/rfenv/lib/python3.11/lib-dynload', '', '/home/rfpred/envs/rfenv/lib/python3.11/site-packages', '/home/rfpred/notebooks/alien_nbs/lgnpy', '/home/rfpred', '/home/rfpred/envs/rfenv/lib/python3.11/site-packages/', '/home/rfpred/envs/rfenv/lib/python3.11/site-packages/nsdcode']\n"
     ]
    },
    {
     "data": {
      "text/plain": [
       "'/home/rfpred'"
      ]
     },
     "execution_count": 1,
     "metadata": {},
     "output_type": "execute_result"
    }
   ],
   "source": [
    "import os\n",
    "import sys\n",
    "\n",
    "import numpy as np\n",
    "import random\n",
    "import matplotlib.pyplot as plt\n",
    "import pandas as pd\n",
    "from scipy.io import loadmat\n",
    "from matplotlib.ticker import MultipleLocator\n",
    "import nibabel as nib\n",
    "import pickle\n",
    "from importlib import reload\n",
    "import h5py\n",
    "from nilearn import plotting\n",
    "import nibabel as nib\n",
    "from sklearn.cross_decomposition import PLSRegression\n",
    "import seaborn as sns\n",
    "from sklearn.linear_model import LinearRegression, Lasso, Ridge\n",
    "from sklearn.model_selection import KFold, cross_val_predict\n",
    "from sklearn.metrics import r2_score\n",
    "from colorama import Fore, Style\n",
    "\n",
    "os.chdir('/home/rfpred')\n",
    "sys.path.append('/home/rfpred')\n",
    "sys.path.append('/home/rfpred/envs/rfenv/lib/python3.11/site-packages/')\n",
    "sys.path.append('/home/rfpred/envs/rfenv/lib/python3.11/site-packages/nsdcode')\n",
    "\n",
    "print(sys.path)\n",
    "%pwd"
   ]
  },
  {
   "cell_type": "code",
   "execution_count": 2,
   "metadata": {},
   "outputs": [],
   "source": [
    "from nsdcode import NSDmapdata, nsd_datalocation\n",
    "\n",
    "from nsdcode.nsd_mapdata import NSDmapdata\n",
    "from nsdcode.nsd_datalocation import nsd_datalocation\n",
    "from nsdcode.nsd_output import nsd_write_fs\n",
    "from nsdcode.utils import makeimagestack\n"
   ]
  },
  {
   "cell_type": "code",
   "execution_count": null,
   "metadata": {},
   "outputs": [],
   "source": [
    "subjix = 1\n",
    "\n",
    "# base_path = os.path.join('/path', 'to', 'NSD')\n",
    "base_path = os.path.join('/home', 'rfpred', 'data','natural-scenes-dataset')\n",
    "print(base_path)\n",
    "\n",
    "# initiate NSDmapdata\n",
    "nsd = NSDmapdata(base_path)\n",
    "\n",
    "nsd_dir = nsd_datalocation(base_path=base_path)\n",
    "nsd_betas = nsd_datalocation(base_path=base_path, dir0='betas')\n",
    "# sourcedata = f'{nsd_dir}/ppdata/subj{subjix:02d}/anat/T1_0pt8_masked.nii.gz'\n",
    "sourcedata = f'{base_path}/nsddata/ppdata/subj01/anat/roi/V1_mask.nii.gz'\n",
    "# sourcedata = f'{base_path}/nsddata/ppdata/subj01/func1mm/roi/V1_mask.nii.gz'  # This one works, so the problem likely is not due to the nsdcode, but due to the fslmaths script.\n",
    "sourcespace = 'anat0pt8'\n",
    "targetspace = 'func1pt0'\n",
    "interpmethod = 'cubic'\n",
    "targetdata = nsd.fit(\n",
    "    subjix,\n",
    "    sourcespace,\n",
    "    targetspace,\n",
    "    sourcedata,\n",
    "    interptype=interpmethod,\n",
    "    badval=0,\n",
    "    outputfile=f'V1-{sourcespace}-{targetspace}-{interpmethod}vogel.nii.gz')\n",
    "\n",
    "nsd.fit(subjix=subjix, sourcedata=sourcedata, sourcespace=sourcespace, targetspace=targetspace, interptype=interpmethod)\n",
    "# show the resulting transform\n",
    "plt.imshow(makeimagestack(targetdata))\n",
    "plt.show()\n",
    "\n",
    "sourcedata = f'{base_path}/nsddata/ppdata/subj01/func1mm/roi/v1_mask_og.nii.gz'  # This one works, so the problem likely is not due to the nsdcode, but due to the fslmaths script.\n",
    "sourcespace = 'anat0pt8'\n",
    "targetspace = 'func1pt0'\n",
    "interpmethod = 'cubic'\n",
    "targetdata_old = nsd.fit(\n",
    "    subjix,\n",
    "    sourcespace,\n",
    "    targetspace,\n",
    "    sourcedata,\n",
    "    interptype=interpmethod,\n",
    "    badval=0,\n",
    "    outputfile=f'V1-{sourcespace}-{targetspace}-{interpmethod}vogel.nii.gz')\n"
   ]
  },
  {
   "cell_type": "code",
   "execution_count": 13,
   "metadata": {},
   "outputs": [
    {
     "data": {
      "text/plain": [
       "6.938370712202747"
      ]
     },
     "execution_count": 13,
     "metadata": {},
     "output_type": "execute_result"
    },
    {
     "data": {
      "image/png": "[encoded data removed]",
      "text/plain": [
       "<Figure size 640x480 with 1 Axes>"
      ]
     },
     "metadata": {},
     "output_type": "display_data"
    }
   ],
   "source": [
    "seg = nib.load('/home/rfpred/data/natural-scenes-dataset/nsddata/ppdata/subj01/func1mm/aseg.nii.gz').get_fdata()\n",
    "plt.imshow(seg[:,:,70], cmap='afmhot')\n",
    "plt.axis('off')\n",
    "\n",
    "np.mean(seg)"
   ]
  },
  {
   "cell_type": "code",
   "execution_count": 15,
   "metadata": {},
   "outputs": [
    {
     "name": "stdout",
     "output_type": "stream",
     "text": [
      "/home/rfpred/data/natural-scenes-dataset\n"
     ]
    }
   ],
   "source": [
    "subjix = 1\n",
    "\n",
    "# base_path = os.path.join('/path', 'to', 'NSD')\n",
    "base_path = os.path.join('/home', 'rfpred', 'data','natural-scenes-dataset')\n",
    "print(base_path)\n",
    "\n",
    "# initiate NSDmapdata\n",
    "nsd = NSDmapdata(base_path)\n",
    "\n",
    "nsd_dir = nsd_datalocation(base_path=base_path)\n",
    "nsd_betas = nsd_datalocation(base_path=base_path, dir0='betas')\n",
    "# sourcedata = f'{nsd_dir}/ppdata/subj{subjix:02d}/anat/T1_0pt8_masked.nii.gz'\n",
    "# sourcedata = f'{base_path}/nsddata/ppdata/subj01/anat/roi/V1_mask.nii.gz'\n",
    "sourcedata = '/home/rfpred/data/custom_files/subj01/freesurfer/fs_test_enc.nii'\n",
    "# sourcedata = f'{base_path}/nsddata/ppdata/subj01/func1mm/roi/V1_mask.nii.gz'  # This one works, so the problem likely is not due to the nsdcode, but due to the fslmaths script.\n",
    "sourcespace = 'func1pt0'\n",
    "targetspace = 'lh.layerB3'\n",
    "interpmethod = 'cubic'\n",
    "targetdata = nsd.fit(\n",
    "    subjix,\n",
    "    sourcespace,\n",
    "    targetspace,\n",
    "    sourcedata,\n",
    "    interptype=interpmethod,\n",
    "    badval=0,\n",
    "    outputfile=f'lh.V1-{sourcespace}-{targetspace}-{interpmethod}vogel.mgz',\n",
    "    fsdir='/home/rfpred/data/natural-scenes-dataset/nsddata/freesurfer/subj01')\n",
    "\n",
    "nsd.fit(subjix=subjix, sourcedata=sourcedata, sourcespace=sourcespace, targetspace=targetspace, interptype=interpmethod)\n",
    "# show the resulting transform\n",
    "# plt.imshow(makeimagestack(targetdata))\n",
    "# plt.imshow(targetdata)\n",
    "plt.show()\n",
    "\n",
    "# sourcedata = f'{base_path}/nsddata/ppdata/subj01/func1mm/roi/v1_mask_og.nii.gz'  # This one works, so the problem likely is not due to the nsdcode, but due to the fslmaths script.\n",
    "# sourcespace = 'anat0pt8'\n",
    "# targetspace = 'func1pt0'\n",
    "# interpmethod = 'cubic'\n",
    "# targetdata_old = nsd.fit(\n",
    "#     subjix,\n",
    "#     sourcespace,\n",
    "#     targetspace,\n",
    "#     sourcedata,\n",
    "#     interptype=interpmethod,\n",
    "#     badval=0,\n",
    "#     outputfile=f'V1-{sourcespace}-{targetspace}-{interpmethod}vogel.nii.gz')\n"
   ]
  }
 ],
 "metadata": {
  "kernelspec": {
   "display_name": "Python 3",
   "language": "python",
   "name": "python3"
  },
  "language_info": {
   "codemirror_mode": {
    "name": "ipython",
    "version": 3
   },
   "file_extension": ".py",
   "mimetype": "text/x-python",
   "name": "python",
   "nbconvert_exporter": "python",
   "pygments_lexer": "ipython3",
   "version": "3.11.7"
  }
 },
 "nbformat": 4,
 "nbformat_minor": 2
}
