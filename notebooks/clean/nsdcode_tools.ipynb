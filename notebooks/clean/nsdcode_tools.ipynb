{
 "cells": [
  {
   "cell_type": "code",
   "execution_count": null,
   "metadata": {},
   "outputs": [],
   "source": [
    "subjix = 1\n",
    "\n",
    "# base_path = os.path.join('/path', 'to', 'NSD')\n",
    "base_path = os.path.join('/home', 'rfpred', 'data','natural-scenes-dataset')\n",
    "print(base_path)\n",
    "\n",
    "# initiate NSDmapdata\n",
    "nsd = NSDmapdata(base_path)\n",
    "\n",
    "nsd_dir = nsd_datalocation(base_path=base_path)\n",
    "nsd_betas = nsd_datalocation(base_path=base_path, dir0='betas')\n",
    "# sourcedata = f'{nsd_dir}/ppdata/subj{subjix:02d}/anat/T1_0pt8_masked.nii.gz'\n",
    "sourcedata = f'{base_path}/nsddata/ppdata/subj01/anat/roi/V1_mask.nii.gz'\n",
    "# sourcedata = f'{base_path}/nsddata/ppdata/subj01/func1mm/roi/V1_mask.nii.gz'  # This one works, so the problem likely is not due to the nsdcode, but due to the fslmaths script.\n",
    "sourcespace = 'anat0pt8'\n",
    "targetspace = 'func1pt0'\n",
    "interpmethod = 'cubic'\n",
    "targetdata = nsd.fit(\n",
    "    subjix,\n",
    "    sourcespace,\n",
    "    targetspace,\n",
    "    sourcedata,\n",
    "    interptype=interpmethod,\n",
    "    badval=0,\n",
    "    outputfile=f'V1-{sourcespace}-{targetspace}-{interpmethod}vogel.nii.gz')\n",
    "\n",
    "nsd.fit(subjix=subjix, sourcedata=sourcedata, sourcespace=sourcespace, targetspace=targetspace, interptype=interpmethod)\n",
    "# show the resulting transform\n",
    "plt.imshow(makeimagestack(targetdata))\n",
    "plt.show()\n",
    "\n",
    "sourcedata = f'{base_path}/nsddata/ppdata/subj01/func1mm/roi/v1_mask_og.nii.gz'  # This one works, so the problem likely is not due to the nsdcode, but due to the fslmaths script.\n",
    "sourcespace = 'anat0pt8'\n",
    "targetspace = 'func1pt0'\n",
    "interpmethod = 'cubic'\n",
    "targetdata_old = nsd.fit(\n",
    "    subjix,\n",
    "    sourcespace,\n",
    "    targetspace,\n",
    "    sourcedata,\n",
    "    interptype=interpmethod,\n",
    "    badval=0,\n",
    "    outputfile=f'V1-{sourcespace}-{targetspace}-{interpmethod}vogel.nii.gz')\n"
   ]
  }
 ],
 "metadata": {
  "language_info": {
   "name": "python"
  }
 },
 "nbformat": 4,
 "nbformat_minor": 2
}
