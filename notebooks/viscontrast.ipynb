{
 "cells": [
  {
   "cell_type": "code",
   "execution_count": 1,
   "metadata": {},
   "outputs": [
    {
     "name": "stdout",
     "output_type": "stream",
     "text": [
      "['/home/rfpred/notebooks', '/home/rfpred/envs/rfenv/lib/python311.zip', '/home/rfpred/envs/rfenv/lib/python3.11', '/home/rfpred/envs/rfenv/lib/python3.11/lib-dynload', '', '/home/rfpred/envs/rfenv/lib/python3.11/site-packages', '/home/rfpred', '/home/rfpred/envs/rfenv/lib/python3.11/site-packages/', '/home/rfpred/envs/rfenv/lib/python3.11/site-packages/nsdcode']\n"
     ]
    },
    {
     "data": {
      "text/plain": [
       "'/home/rfpred'"
      ]
     },
     "execution_count": 1,
     "metadata": {},
     "output_type": "execute_result"
    }
   ],
   "source": [
    "import os\n",
    "import sys\n",
    "import numpy as np\n",
    "import random\n",
    "import matplotlib.pyplot as plt\n",
    "import pandas as pd\n",
    "from scipy.io import loadmat\n",
    "from matplotlib.ticker import MultipleLocator\n",
    "import nibabel as nib\n",
    "import pickle\n",
    "\n",
    "os.chdir('/home/rfpred')\n",
    "sys.path.append('/home/rfpred')\n",
    "sys.path.append('/home/rfpred/envs/rfenv/lib/python3.11/site-packages/')\n",
    "sys.path.append('/home/rfpred/envs/rfenv/lib/python3.11/site-packages/nsdcode')\n",
    "\n",
    "print(sys.path)\n",
    "%pwd"
   ]
  },
  {
   "cell_type": "code",
   "execution_count": 2,
   "metadata": {},
   "outputs": [],
   "source": [
    "from funcs.imgproc import get_imgs_designmx, rms_all, feature_df, show_stim, get_rms_contrast, get_rms_contrast_lab, get_contrast_df, get_img_prf, get_visfeature_dict\n",
    "from funcs.rf_tools import get_mask, css_gaussian_cut, make_circle_mask, make_visrois_dict, write_prf_dict\n",
    "from funcs.utility import print_dict_structure, print_large, get_zscore, hypotheses_plot, multiple_regression\n",
    "from funcs.analyses import multivariate_regression, regression_dict_multivariate, plot_roi_beta_distribution, get_hrf_dict\n",
    "from funcs.utility import numpy2coords, coords2numpy, filter_array_by_size, find_common_rows\n",
    "from funcs.viscontrasts import lgn_statistics"
   ]
  },
  {
   "cell_type": "code",
   "execution_count": 3,
   "metadata": {},
   "outputs": [
    {
     "name": "stdout",
     "output_type": "stream",
     "text": [
      "Subject 1\n",
      "V1_mask\n",
      "Non-zero voxels in V1_mask: 7887\n",
      "V2_mask\n",
      "Non-zero voxels in V2_mask: 8296\n",
      "V3_mask\n",
      "Non-zero voxels in V3_mask: 7022\n",
      "V4_mask\n",
      "Non-zero voxels in V4_mask: 3976\n",
      "Subject 2\n",
      "V1_mask\n",
      "Non-zero voxels in V1_mask: 6476\n",
      "V2_mask\n",
      "Non-zero voxels in V2_mask: 6376\n",
      "V3_mask\n",
      "Non-zero voxels in V3_mask: 6236\n",
      "V4_mask\n",
      "Non-zero voxels in V4_mask: 2887\n",
      "Subject 3\n",
      "V1_mask\n",
      "Non-zero voxels in V1_mask: 7358\n",
      "V2_mask\n",
      "Non-zero voxels in V2_mask: 6721\n",
      "V3_mask\n",
      "Non-zero voxels in V3_mask: 5316\n",
      "V4_mask\n",
      "Non-zero voxels in V4_mask: 2486\n",
      "Subject 4\n",
      "V1_mask\n",
      "Non-zero voxels in V1_mask: 5119\n",
      "V2_mask\n",
      "Non-zero voxels in V2_mask: 5088\n",
      "V3_mask\n",
      "Non-zero voxels in V3_mask: 4669\n",
      "V4_mask\n",
      "Non-zero voxels in V4_mask: 2790\n",
      "Subject 5\n",
      "V1_mask\n",
      "Non-zero voxels in V1_mask: 6502\n",
      "V2_mask\n",
      "Non-zero voxels in V2_mask: 6309\n",
      "V3_mask\n",
      "Non-zero voxels in V3_mask: 5383\n",
      "V4_mask\n",
      "Non-zero voxels in V4_mask: 3184\n",
      "Subject 6\n",
      "V1_mask\n",
      "Non-zero voxels in V1_mask: 6479\n",
      "V2_mask\n",
      "Non-zero voxels in V2_mask: 6905\n",
      "V3_mask\n",
      "Non-zero voxels in V3_mask: 7130\n",
      "V4_mask\n",
      "Non-zero voxels in V4_mask: 2846\n",
      "Subject 7\n",
      "V1_mask\n",
      "Non-zero voxels in V1_mask: 6663\n",
      "V2_mask\n",
      "Non-zero voxels in V2_mask: 5589\n",
      "V3_mask\n",
      "Non-zero voxels in V3_mask: 4213\n",
      "V4_mask\n",
      "Non-zero voxels in V4_mask: 2286\n",
      "Subject 8\n",
      "V1_mask\n",
      "Non-zero voxels in V1_mask: 6188\n",
      "V2_mask\n",
      "Non-zero voxels in V2_mask: 6003\n",
      "V3_mask\n",
      "Non-zero voxels in V3_mask: 5159\n",
      "V4_mask\n",
      "Non-zero voxels in V4_mask: 2845\n"
     ]
    }
   ],
   "source": [
    "n_subjects = len(os.listdir('/home/rfpred/data/natural-scenes-dataset/nsddata/ppdata'))\n",
    "vismask_dict = make_visrois_dict(vox_count = 'y', bin_check = 'n', n_subjects=n_subjects)\n",
    "prf_dict = write_prf_dict(binary_masks = vismask_dict)"
   ]
  },
  {
   "cell_type": "code",
   "execution_count": 4,
   "metadata": {},
   "outputs": [],
   "source": [
    "# Load in the RMS contrast values for each image, in and out inner circle\n",
    "all_rms = pd.read_pickle('all_rms_lab_df')\n",
    "all_irrelevant_rms = pd.read_pickle('all_rms_irrelevant_df.pkl')"
   ]
  },
  {
   "cell_type": "code",
   "execution_count": 5,
   "metadata": {},
   "outputs": [],
   "source": [
    "# # Load in the design matrix\n",
    "# dmx = get_imgs_designmx()\n",
    "\n",
    "# # Subject specific object with the correct sequence of RMS contrast values per image.\n",
    "# rms_subj01 = feature_df(subject = 'subj01', feature = 'rms', feat_per_img = all_rms, designmx = dmx) \n",
    "# rms_irrelevant_subj01 = feature_df(subject = 'subj01', feature = 'rms', feat_per_img = all_irrelevant_rms, designmx = dmx)\n",
    "# # Write loop for all subjects\n",
    "\n",
    "# # Standardize the root mean square values by turning them into z-scores\n",
    "# rms_subj01_z = get_zscore(rms_subj01['rms'], print_ars = 'n')\n",
    "\n",
    "# # Add the z-scored RMS contrast values to the dataframe\n",
    "# if rms_subj01.shape[1] == 2:    \n",
    "#     rms_subj01.insert(2,'rms_z', rms_subj01_z)\n",
    "\n",
    "# print(rms_subj01)\n",
    "\n",
    "# print(rms_subj01)\n",
    "# print(rms_irrelevant_subj01)\n"
   ]
  },
  {
   "cell_type": "code",
   "execution_count": 6,
   "metadata": {},
   "outputs": [],
   "source": [
    "# # Standardize the root mean square values by turning them into z-scores\n",
    "# rms_subj01_z = get_zscore(rms_subj01['rms'], print_ars = 'n')\n",
    "\n",
    "# # Add the z-scored RMS contrast values to the dataframe\n",
    "# if rms_subj01.shape[1] == 2:    \n",
    "#     rms_subj01.insert(2,'rms_z', rms_subj01_z)\n",
    "\n",
    "# print(rms_subj01)"
   ]
  },
  {
   "cell_type": "code",
   "execution_count": 7,
   "metadata": {},
   "outputs": [],
   "source": [
    "def get_visfeature_dict(subjects, all_rms, all_irrelevant_rms, dmx):\n",
    "    results = {}\n",
    "    for subject in subjects:\n",
    "        # Subject specific object with the correct sequence of RMS contrast values per image.\n",
    "        rms = feature_df(subject=subject, feature='rms', feat_per_img=all_rms, designmx=dmx)\n",
    "        rms_irrelevant = feature_df(subject=subject, feature='rms', feat_per_img=all_irrelevant_rms, designmx=dmx)\n",
    "\n",
    "        # Standardize the root mean square values by turning them into z-scores\n",
    "        rms_z = get_zscore(rms['rms'], print_ars='n')\n",
    "        rms_irrelevant_z = get_zscore(rms_irrelevant['rms'], print_ars='n')\n",
    "\n",
    "        # Add the z-scored RMS contrast values to the dataframe\n",
    "        if rms.shape[1] == 2:\n",
    "            rms.insert(2, 'rms_z', rms_z)\n",
    "        if rms_irrelevant.shape[1] == 2:\n",
    "            rms_irrelevant.insert(2, 'rms_z', rms_irrelevant_z)\n",
    "\n",
    "        # Store the dataframes in the results dictionary\n",
    "        results[subject] = {'rms': rms, 'rms_irrelevant': rms_irrelevant}\n",
    "\n",
    "    return results\n",
    "\n",
    "# Usage:\n",
    "subjects = ['subj01', 'subj02', 'subj03', 'subj04', 'subj05', 'subj06', 'subj07', 'subj08']  # replace with your actual subjects\n",
    "dmx = get_imgs_designmx()\n",
    "visfeats = get_visfeature_dict(subjects, all_rms, all_irrelevant_rms, dmx)"
   ]
  },
  {
   "cell_type": "markdown",
   "metadata": {},
   "source": [
    "### Okay this is super nice, now I need to first run a regression with the irrleevant RMS values, then I'm going to have to look at a larger central patch, so back to the pRF selection table, and then I'll have to figure out how to get SC and CE, also make everything more streamlined."
   ]
  },
  {
   "cell_type": "code",
   "execution_count": 9,
   "metadata": {},
   "outputs": [
    {
     "data": {
      "text/plain": [
       "{'rms':        img_no        rms     rms_z\n",
       " 0       46002  25.471033 -0.058404\n",
       " 1        5736  41.151361  1.221880\n",
       " 2        9203  35.636389  0.771588\n",
       " 3       33362  21.846228 -0.354365\n",
       " 4       64486  27.876221  0.137978\n",
       " ...       ...        ...       ...\n",
       " 29995   46528  29.771790  0.292749\n",
       " 29996   50683  30.991426  0.392331\n",
       " 29997   44062  25.312996 -0.071307\n",
       " 29998   53237  22.160278 -0.328723\n",
       " 29999   54912  20.125339 -0.494874\n",
       " \n",
       " [30000 rows x 3 columns],\n",
       " 'rms_irrelevant':        img_no        rms     rms_z\n",
       " 0       46002  43.184334  2.276567\n",
       " 1        5736  34.911203  1.561635\n",
       " 2        9203  43.111651  2.270286\n",
       " 3       33362   7.339469 -0.821010\n",
       " 4       64486  12.357728 -0.387351\n",
       " ...       ...        ...       ...\n",
       " 29995   46528  17.206866  0.031693\n",
       " 29996   50683  22.388956  0.479510\n",
       " 29997   44062  33.999139  1.482818\n",
       " 29998   53237  30.799038  1.206277\n",
       " 29999   54912  17.586175  0.064472\n",
       " \n",
       " [30000 rows x 3 columns]}"
      ]
     },
     "execution_count": 9,
     "metadata": {},
     "output_type": "execute_result"
    }
   ],
   "source": [
    "visfeats['subj05']"
   ]
  },
  {
   "cell_type": "code",
   "execution_count": 10,
   "metadata": {},
   "outputs": [],
   "source": [
    "# Load in the saved masks for selected voxels that have their prf inside the inner patch.\n",
    "with open('./data/custom_files/subj01/prf_mask_center_strict.pkl', 'rb') as fp:\n",
    "    prf_mask_center_strict = pickle.load(fp)\n",
    "    \n",
    "    \n",
    "with open('./data/custom_files/subj01/prf_mask_central_loose.pkl', 'rb') as fp:\n",
    "    prf_mask_central_loose = pickle.load(fp) \n",
    "    \n",
    "\n",
    "# Load in the saved file\n",
    "with open('./data/custom_files/subj01/prf_mask_periphery_strict.pkl', 'rb') as fp:\n",
    "   prf_mask_periphery_strict = pickle.load(fp)\n",
    "\n",
    "\n",
    "# Load in the saved file\n",
    "with open('./data/custom_files/subj01/new_prf_mask_central_strict.pkl', 'rb') as fp:\n",
    "   new_central_mask = pickle.load(fp)"
   ]
  },
  {
   "cell_type": "code",
   "execution_count": 12,
   "metadata": {},
   "outputs": [],
   "source": [
    "from multiprocessing import Pool\n",
    "\n",
    "# These two functions are coupled to run the feature computations in parallel.\n",
    "# This saves a lot of time. Should be combined with the feature_df function to assign\n",
    "# the values to the corresponding trials.\n",
    "def rms_single(args, ecc_max = 1, loc = 'center'):\n",
    "    i, start, n, loc = args\n",
    "    dim = show_stim(hide = 'y')[0].shape[0]\n",
    "    radius = ecc_max * (dim / 8.4)\n",
    "\n",
    "    if loc == 'center':\n",
    "        x = y = (dim + 1)/2\n",
    "    elif loc == 'irrelevant_patch':\n",
    "        x = y = radius + 10\n",
    "        \n",
    "    mask_w_in = css_gaussian_cut(dim, x, y, radius)\n",
    "    rf_mask_in = make_circle_mask(dim, x, y, radius, fill = 'y', margin_width = 0)\n",
    "    ar_in = show_stim(img_no = i, hide = 'y')[0]  \n",
    "    \n",
    "    if i % 100 == 0:\n",
    "        print(f\"Processing image number: {i} out of {n + start}\")\n",
    "    return get_rms_contrast_lab(ar_in, mask_w_in, rf_mask_in, normalise = True, plot = 'n')\n",
    "\n",
    "\n",
    "def rms_all(start, n, ecc_max = 1, loc = 'center'):\n",
    "    img_vec = list(range(start, start + n))\n",
    "\n",
    "    # Create a pool of worker processes\n",
    "    with Pool() as p:\n",
    "        rms_vec = p.map(rms_single, [(i, start, n, loc) for i in img_vec])\n",
    "\n",
    "    rms_dict = pd.DataFrame({\n",
    "        'rms': rms_vec\n",
    "    })\n",
    "\n",
    "    rms_dict = rms_dict.set_index(np.array(img_vec))\n",
    "    return rms_dict\n"
   ]
  },
  {
   "cell_type": "code",
   "execution_count": null,
   "metadata": {},
   "outputs": [],
   "source": [
    "rms_test = rms_all(start = 72998, n = 2)\n",
    "rms_test"
   ]
  },
  {
   "cell_type": "markdown",
   "metadata": {},
   "source": [
    "The peripheral RMS within-voxel check by looking at both the RMS contrast value in the central patch, and a RMS contrast value outside of the patch of equal size to the central one."
   ]
  },
  {
   "cell_type": "code",
   "execution_count": 40,
   "metadata": {},
   "outputs": [],
   "source": [
    "# rms_irrelevant = rms_all(start = 0, n = 10000, loc = 'irrelevant_patch')\n",
    "# rms_irrelevant10k_50k = rms_all(start = 10000, n = 50000, loc = 'irrelevant_patch')\n",
    "# rms_irrelevant60k_72k = rms_all(start = 60000, n = 13000, loc = 'irrelevant_patch')\n"
   ]
  },
  {
   "cell_type": "code",
   "execution_count": 46,
   "metadata": {},
   "outputs": [],
   "source": [
    "# rms_irrelevant.to_pickle('rms_irrelevant0_10k.pkl')\n",
    "# rms_irrelevant10k_50k.to_pickle('rms_irrelevant10k_50k.pkl')\n",
    "# rms_irrelevant60k_72k.to_pickle('rms_irrelevant60k_72k.pkl')"
   ]
  },
  {
   "cell_type": "code",
   "execution_count": 52,
   "metadata": {},
   "outputs": [],
   "source": [
    "all_rms_irrelevant = pd.concat(([rms_irrelevant, rms_irrelevant10k_50k, rms_irrelevant60k_72k]))\n",
    "\n",
    "# Standardize the root mean square values by turning them into z-scores\n",
    "rms_irrelevant_z = get_zscore(all_rms_irrelevant['rms'], print_ars = 'n')\n",
    "all_rms_irrelevant['rms_z'] = rms_irrelevant_z\n",
    "\n",
    "# Save the dataframe\n",
    "all_rms_irrelevant.to_pickle('all_rms_irrelevant_df.pkl')"
   ]
  },
  {
   "cell_type": "code",
   "execution_count": null,
   "metadata": {},
   "outputs": [],
   "source": [
    "# Standardize the root mean square values by turning them into z-scores\n",
    "# rms_irrelevant_z = get_zscore(all_rms_irrelevant['rms'], print_ars = 'n')\n",
    "# all_rms_irrelevant['rms_z'] = rms_irrelevant_z"
   ]
  },
  {
   "cell_type": "code",
   "execution_count": 53,
   "metadata": {},
   "outputs": [
    {
     "name": "stdout",
     "output_type": "stream",
     "text": [
      "             rms     rms_z\n",
      "0       1.343889 -1.350403\n",
      "1       2.371709 -1.261350\n",
      "2       5.027124 -1.031278\n",
      "3      18.204229  0.110421\n",
      "4      14.664938 -0.196233\n",
      "...          ...       ...\n",
      "72995  21.163875  0.366852\n",
      "72996   5.707909 -0.972293\n",
      "72997  20.651257  0.322438\n",
      "72998   4.416179 -1.084212\n",
      "72999   7.660159 -0.803145\n",
      "\n",
      "[73000 rows x 2 columns]\n"
     ]
    }
   ],
   "source": [
    "all_rms_irrelevant = pd.read_pickle('all_rms_irrelevant_df.pkl')\n",
    "print(all_rms_irrelevant)"
   ]
  },
  {
   "cell_type": "code",
   "execution_count": 49,
   "metadata": {},
   "outputs": [],
   "source": []
  },
  {
   "cell_type": "code",
   "execution_count": 50,
   "metadata": {},
   "outputs": [
    {
     "name": "stdout",
     "output_type": "stream",
     "text": [
      "             rms     rms_z\n",
      "0       1.343889 -1.350403\n",
      "1       2.371709 -1.261350\n",
      "2       5.027124 -1.031278\n",
      "3      18.204229  0.110421\n",
      "4      14.664938 -0.196233\n",
      "...          ...       ...\n",
      "72995  21.163875  0.366852\n",
      "72996   5.707909 -0.972293\n",
      "72997  20.651257  0.322438\n",
      "72998   4.416179 -1.084212\n",
      "72999   7.660159 -0.803145\n",
      "\n",
      "[73000 rows x 2 columns]\n"
     ]
    }
   ],
   "source": [
    "print(all_rms_irrelevant)"
   ]
  },
  {
   "cell_type": "code",
   "execution_count": null,
   "metadata": {},
   "outputs": [],
   "source": []
  }
 ],
 "metadata": {
  "kernelspec": {
   "display_name": "Python 3",
   "language": "python",
   "name": "python3"
  },
  "language_info": {
   "codemirror_mode": {
    "name": "ipython",
    "version": 3
   },
   "file_extension": ".py",
   "mimetype": "text/x-python",
   "name": "python",
   "nbconvert_exporter": "python",
   "pygments_lexer": "ipython3",
   "version": "3.11.7"
  }
 },
 "nbformat": 4,
 "nbformat_minor": 2
}
