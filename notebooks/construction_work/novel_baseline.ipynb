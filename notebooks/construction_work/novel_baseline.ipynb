{
 "cells": [
  {
   "cell_type": "code",
   "execution_count": 1,
   "metadata": {},
   "outputs": [
    {
     "name": "stdout",
     "output_type": "stream",
     "text": [
      "['/home/rfpred/notebooks/construction_work', '/home/rfpred/envs/rfenv/lib/python311.zip', '/home/rfpred/envs/rfenv/lib/python3.11', '/home/rfpred/envs/rfenv/lib/python3.11/lib-dynload', '', '/home/rfpred/envs/rfenv/lib/python3.11/site-packages', '/home/rfpred/notebooks/alien_nbs/lgnpy', '/home/rfpred/envs/rfenv/lib/python3.11/site-packages/nsd_access-0.0.1.dev0-py3.11.egg', '/home/rfpred/envs/rfenv/lib/python3.11/site-packages/cifti-1.1-py3.11.egg']\n"
     ]
    }
   ],
   "source": [
    "import os\n",
    "import sys\n",
    "import importlib\n",
    "print(sys.path)\n",
    "%pwd\n",
    "\n",
    "os.chdir('/home/rfpred')\n",
    "sys.path.append('/home/rfpred/')\n",
    "sys.path.append('/home/rfpred/envs/rfenv/lib/python3.11/site-packages/')\n",
    "sys.path.append('/home/rfpred/envs/rfenv/lib/python3.11/site-packages/nsdcode')\n"
   ]
  },
  {
   "cell_type": "code",
   "execution_count": 6,
   "metadata": {},
   "outputs": [
    {
     "name": "stdout",
     "output_type": "stream",
     "text": [
      "\u001b[33mDEPRECATION: Loading egg at /home/rfpred/envs/rfenv/lib/python3.11/site-packages/cifti-1.1-py3.11.egg is deprecated. pip 24.3 will enforce this behaviour change. A possible replacement is to use pip for package installation.. Discussion can be found at https://github.com/pypa/pip/issues/12330\u001b[0m\u001b[33m\n",
      "\u001b[0m\u001b[33mDEPRECATION: Loading egg at /home/rfpred/envs/rfenv/lib/python3.11/site-packages/nsd_access-0.0.1.dev0-py3.11.egg is deprecated. pip 24.3 will enforce this behaviour change. A possible replacement is to use pip for package installation.. Discussion can be found at https://github.com/pypa/pip/issues/12330\u001b[0m\u001b[33m\n",
      "\u001b[0mCollecting loggabor\n",
      "  Using cached LogGabor-20240421.tar.gz (9.1 kB)\n",
      "  Preparing metadata (setup.py) ... \u001b[?25ldone\n",
      "\u001b[?25hRequirement already satisfied: SLIP in ./envs/rfenv/lib/python3.11/site-packages (from loggabor) (20240420)\n",
      "Requirement already satisfied: numpy in ./envs/rfenv/lib/python3.11/site-packages (from SLIP->loggabor) (1.26.3)\n",
      "Requirement already satisfied: imageio in ./envs/rfenv/lib/python3.11/site-packages (from SLIP->loggabor) (2.34.0)\n",
      "Requirement already satisfied: NeuroTools in ./envs/rfenv/lib/python3.11/site-packages (from SLIP->loggabor) (0.3.1)\n",
      "Requirement already satisfied: pillow>=8.3.2 in ./envs/rfenv/lib/python3.11/site-packages (from imageio->SLIP->loggabor) (10.3.0)\n",
      "Building wheels for collected packages: loggabor\n",
      "  Building wheel for loggabor (setup.py) ... \u001b[?25ldone\n",
      "\u001b[?25h  Created wheel for loggabor: filename=LogGabor-20240421-py3-none-any.whl size=8248 sha256=4dd59d01be91eb5e757e909315cd0550e156620f02bf8fe7bb2b9e82e86126a4\n",
      "  Stored in directory: /home/wscheurer/.cache/pip/wheels/c8/f4/c4/a08c10a9c5127d9e111c93912b0f880c66a5db7ce0fbd02bac\n",
      "Successfully built loggabor\n",
      "Installing collected packages: loggabor\n",
      "Successfully installed loggabor-20240421\n"
     ]
    }
   ],
   "source": [
    "\n",
    "# !{sys.executable} -m pip install NeuroTools\n",
    "# !{sys.executable} -m pip install SLIP\n",
    "!{sys.executable} -m pip install loggabor"
   ]
  },
  {
   "cell_type": "code",
   "execution_count": null,
   "metadata": {},
   "outputs": [],
   "source": []
  }
 ],
 "metadata": {
  "kernelspec": {
   "display_name": "Python 3",
   "language": "python",
   "name": "python3"
  },
  "language_info": {
   "codemirror_mode": {
    "name": "ipython",
    "version": 3
   },
   "file_extension": ".py",
   "mimetype": "text/x-python",
   "name": "python",
   "nbconvert_exporter": "python",
   "pygments_lexer": "ipython3",
   "version": "3.11.7"
  }
 },
 "nbformat": 4,
 "nbformat_minor": 2
}
