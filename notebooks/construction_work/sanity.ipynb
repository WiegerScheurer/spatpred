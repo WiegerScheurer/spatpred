{
 "cells": [
  {
   "cell_type": "code",
   "execution_count": 3,
   "metadata": {},
   "outputs": [
    {
     "name": "stdout",
     "output_type": "stream",
     "text": [
      "['/home/rfpred/notebooks/construction_work', '/home/rfpred/envs/rfenv/lib/python311.zip', '/home/rfpred/envs/rfenv/lib/python3.11', '/home/rfpred/envs/rfenv/lib/python3.11/lib-dynload', '', '/home/rfpred/envs/rfenv/lib/python3.11/site-packages', '/home/rfpred/notebooks/alien_nbs/lgnpy', '/home/rfpred', '/home/rfpred/envs/rfenv/lib/python3.11/site-packages/', '/home/rfpred/envs/rfenv/lib/python3.11/site-packages/nsdcode', '/home/rfpred', '/home/rfpred/envs/rfenv/lib/python3.11/site-packages/', '/home/rfpred/envs/rfenv/lib/python3.11/site-packages/nsdcode']\n"
     ]
    },
    {
     "data": {
      "text/plain": [
       "'/home/rfpred'"
      ]
     },
     "execution_count": 3,
     "metadata": {},
     "output_type": "execute_result"
    }
   ],
   "source": [
    "import os\n",
    "import sys\n",
    "\n",
    "import numpy as np\n",
    "import random\n",
    "import matplotlib.pyplot as plt\n",
    "import pandas as pd\n",
    "from scipy.io import loadmat\n",
    "from matplotlib.ticker import MultipleLocator\n",
    "import nibabel as nib\n",
    "import pickle\n",
    "from importlib import reload\n",
    "import h5py\n",
    "\n",
    "os.chdir('/home/rfpred')\n",
    "sys.path.append('/home/rfpred')\n",
    "sys.path.append('/home/rfpred/envs/rfenv/lib/python3.11/site-packages/')\n",
    "sys.path.append('/home/rfpred/envs/rfenv/lib/python3.11/site-packages/nsdcode')\n",
    "\n",
    "print(sys.path)\n",
    "%pwd"
   ]
  },
  {
   "cell_type": "code",
   "execution_count": 42,
   "metadata": {},
   "outputs": [],
   "source": [
    "from funcs.imgproc import get_imgs_designmx, rms_all, feature_df, show_stim, get_rms_contrast, get_rms_contrast_lab, get_contrast_df, get_img_prf, get_visfeature_dict\n",
    "from funcs.rf_tools import get_mask, css_gaussian_cut, make_circle_mask, make_visrois_dict, write_prf_dict, nsd_R2_dict, rsquare_selection, make_gaussian_2d\n",
    "from funcs.utility import print_dict_structure, print_large, get_zscore, mean_center, hypotheses_plot, multiple_regression\n",
    "from funcs.analyses import multivariate_regression, regression_dict_multivariate, plot_roi_beta_distribution, get_hrf_dict, plot_beta_to_icept, reg_plots, univariate_regression, multivariate_regression\n",
    "from funcs.utility import numpy2coords, coords2numpy, filter_array_by_size, find_common_rows, cap_values, _sort_by_column\n",
    "# from funcs.viscontrasts import lgn_statistics\n",
    "from notebooks.alien_nbs.lgnpy.lgnpy.CEandSC import lgn_statistics"
   ]
  },
  {
   "cell_type": "code",
   "execution_count": 6,
   "metadata": {},
   "outputs": [],
   "source": [
    "# doens't really work\n",
    "# def reload():\n",
    "import importlib\n",
    "import funcs.imgproc\n",
    "import funcs.rf_tools\n",
    "import funcs.utility\n",
    "import funcs.analyses\n",
    "import notebooks.alien_nbs.lgnpy.lgnpy.CEandSC\n",
    "\n",
    "# Reload the modules\n",
    "importlib.reload(funcs.imgproc)\n",
    "importlib.reload(funcs.rf_tools)\n",
    "importlib.reload(funcs.utility)\n",
    "importlib.reload(funcs.analyses)\n",
    "importlib.reload(notebooks.alien_nbs.lgnpy.lgnpy.CEandSC)\n",
    "\n",
    "# Re-import the functions\n",
    "from funcs.imgproc import get_imgs_designmx, rms_all, feature_df, show_stim, get_rms_contrast, get_rms_contrast_lab, get_contrast_df, get_img_prf, get_visfeature_dict\n",
    "from funcs.rf_tools import get_mask, css_gaussian_cut, make_circle_mask, make_visrois_dict, write_prf_dict\n",
    "from funcs.utility import print_dict_structure, print_large, get_zscore, mean_center, hypotheses_plot, multiple_regression\n",
    "from funcs.analyses import multivariate_regression, regression_dict_multivariate, plot_roi_beta_distribution, get_hrf_dict, plot_beta_to_icept, reg_plots, univariate_regression, multivariate_regression\n",
    "from funcs.utility import numpy2coords, coords2numpy, filter_array_by_size, find_common_rows, cap_values, _sort_by_column\n",
    "from notebooks.alien_nbs.lgnpy.lgnpy.CEandSC import lgn_statistics"
   ]
  },
  {
   "cell_type": "code",
   "execution_count": 7,
   "metadata": {},
   "outputs": [
    {
     "name": "stdout",
     "output_type": "stream",
     "text": [
      "Subject 1\n",
      "V1_mask\n",
      "Non-zero voxels in V1_mask: 7887\n",
      "V2_mask\n",
      "Non-zero voxels in V2_mask: 8296\n",
      "V3_mask\n",
      "Non-zero voxels in V3_mask: 7022\n",
      "V4_mask\n",
      "Non-zero voxels in V4_mask: 3976\n",
      "Subject 2\n",
      "V1_mask\n",
      "Non-zero voxels in V1_mask: 6476\n",
      "V2_mask\n",
      "Non-zero voxels in V2_mask: 6376\n",
      "V3_mask\n",
      "Non-zero voxels in V3_mask: 6236\n",
      "V4_mask\n",
      "Non-zero voxels in V4_mask: 2887\n",
      "Subject 3\n",
      "V1_mask\n",
      "Non-zero voxels in V1_mask: 7358\n",
      "V2_mask\n",
      "Non-zero voxels in V2_mask: 6721\n",
      "V3_mask\n",
      "Non-zero voxels in V3_mask: 5316\n",
      "V4_mask\n",
      "Non-zero voxels in V4_mask: 2486\n",
      "Subject 4\n",
      "V1_mask\n",
      "Non-zero voxels in V1_mask: 5119\n",
      "V2_mask\n",
      "Non-zero voxels in V2_mask: 5088\n",
      "V3_mask\n",
      "Non-zero voxels in V3_mask: 4669\n",
      "V4_mask\n",
      "Non-zero voxels in V4_mask: 2790\n",
      "Subject 5\n",
      "V1_mask\n",
      "Non-zero voxels in V1_mask: 6502\n",
      "V2_mask\n",
      "Non-zero voxels in V2_mask: 6309\n",
      "V3_mask\n",
      "Non-zero voxels in V3_mask: 5383\n",
      "V4_mask\n",
      "Non-zero voxels in V4_mask: 3184\n",
      "Subject 6\n",
      "V1_mask\n",
      "Non-zero voxels in V1_mask: 6479\n",
      "V2_mask\n",
      "Non-zero voxels in V2_mask: 6905\n",
      "V3_mask\n",
      "Non-zero voxels in V3_mask: 7130\n",
      "V4_mask\n",
      "Non-zero voxels in V4_mask: 2846\n",
      "Subject 7\n",
      "V1_mask\n",
      "Non-zero voxels in V1_mask: 6663\n",
      "V2_mask\n",
      "Non-zero voxels in V2_mask: 5589\n",
      "V3_mask\n",
      "Non-zero voxels in V3_mask: 4213\n",
      "V4_mask\n",
      "Non-zero voxels in V4_mask: 2286\n",
      "Subject 8\n",
      "V1_mask\n",
      "Non-zero voxels in V1_mask: 6188\n",
      "V2_mask\n",
      "Non-zero voxels in V2_mask: 6003\n",
      "V3_mask\n",
      "Non-zero voxels in V3_mask: 5159\n",
      "V4_mask\n",
      "Non-zero voxels in V4_mask: 2845\n"
     ]
    }
   ],
   "source": [
    "n_subjects = len(os.listdir('/home/rfpred/data/natural-scenes-dataset/nsddata/ppdata'))\n",
    "vismask_dict = make_visrois_dict(vox_count = 'y', bin_check = 'n', n_subjects=n_subjects)\n",
    "prf_dict = write_prf_dict(binary_masks = vismask_dict)"
   ]
  },
  {
   "cell_type": "code",
   "execution_count": 6,
   "metadata": {},
   "outputs": [
    {
     "ename": "ValueError",
     "evalue": "zero-size array to reduction operation minimum which has no identity",
     "output_type": "error",
     "traceback": [
      "\u001b[0;31m---------------------------------------------------------------------------\u001b[0m",
      "\u001b[0;31mValueError\u001b[0m                                Traceback (most recent call last)",
      "Cell \u001b[0;32mIn[6], line 10\u001b[0m\n\u001b[1;32m      7\u001b[0m         roi_facor \u001b[38;5;241m=\u001b[39m \u001b[38;5;241m1\u001b[39m\n\u001b[1;32m      9\u001b[0m     \u001b[38;5;66;03m# mask_viscortex += (cap_values(vismask_dict[subject][roi],1000) * ((roi_factor + 1)**2))\u001b[39;00m\n\u001b[0;32m---> 10\u001b[0m     mask_viscortex \u001b[38;5;241m+\u001b[39m\u001b[38;5;241m=\u001b[39m (\u001b[43mcap_values\u001b[49m\u001b[43m(\u001b[49m\u001b[43mvismask_dict\u001b[49m\u001b[43m[\u001b[49m\u001b[43msubject\u001b[49m\u001b[43m]\u001b[49m\u001b[43m[\u001b[49m\u001b[43mroi\u001b[49m\u001b[43m]\u001b[49m\u001b[43m,\u001b[49m\u001b[38;5;241;43m1000\u001b[39;49m\u001b[43m)\u001b[49m \u001b[38;5;241m*\u001b[39m ((roi_factor \u001b[38;5;241m+\u001b[39m \u001b[38;5;241m1\u001b[39m)))\n\u001b[1;32m     13\u001b[0m mask_v1 \u001b[38;5;241m=\u001b[39m vismask_dict[subject][\u001b[38;5;124m'\u001b[39m\u001b[38;5;124mV1_mask\u001b[39m\u001b[38;5;124m'\u001b[39m]\n\u001b[1;32m     14\u001b[0m prf_par \u001b[38;5;241m=\u001b[39m \u001b[38;5;124m'\u001b[39m\u001b[38;5;124mangle\u001b[39m\u001b[38;5;124m'\u001b[39m\n",
      "File \u001b[0;32m/home/rfpred/funcs/utility.py:53\u001b[0m, in \u001b[0;36mcap_values\u001b[0;34m(array, lower_threshold, upper_threshold)\u001b[0m\n\u001b[1;32m     50\u001b[0m below_lower_threshold \u001b[38;5;241m=\u001b[39m array \u001b[38;5;241m<\u001b[39m lower_threshold\n\u001b[1;32m     52\u001b[0m \u001b[38;5;66;03m# Identify the lowest value above the lower threshold\u001b[39;00m\n\u001b[0;32m---> 53\u001b[0m lowest_above_lower_threshold \u001b[38;5;241m=\u001b[39m \u001b[43marray\u001b[49m\u001b[43m[\u001b[49m\u001b[43marray\u001b[49m\u001b[43m \u001b[49m\u001b[38;5;241;43m>\u001b[39;49m\u001b[38;5;241;43m=\u001b[39;49m\u001b[43m \u001b[49m\u001b[43mlower_threshold\u001b[49m\u001b[43m]\u001b[49m\u001b[38;5;241;43m.\u001b[39;49m\u001b[43mmin\u001b[49m\u001b[43m(\u001b[49m\u001b[43m)\u001b[49m\n\u001b[1;32m     55\u001b[0m \u001b[38;5;66;03m# Replace values below the lower threshold with the lowest value above the lower threshold\u001b[39;00m\n\u001b[1;32m     56\u001b[0m array[below_lower_threshold] \u001b[38;5;241m=\u001b[39m lowest_above_lower_threshold\n",
      "File \u001b[0;32m/home/rfpred/envs/rfenv/lib/python3.11/site-packages/numpy/core/_methods.py:45\u001b[0m, in \u001b[0;36m_amin\u001b[0;34m(a, axis, out, keepdims, initial, where)\u001b[0m\n\u001b[1;32m     43\u001b[0m \u001b[38;5;28;01mdef\u001b[39;00m \u001b[38;5;21m_amin\u001b[39m(a, axis\u001b[38;5;241m=\u001b[39m\u001b[38;5;28;01mNone\u001b[39;00m, out\u001b[38;5;241m=\u001b[39m\u001b[38;5;28;01mNone\u001b[39;00m, keepdims\u001b[38;5;241m=\u001b[39m\u001b[38;5;28;01mFalse\u001b[39;00m,\n\u001b[1;32m     44\u001b[0m           initial\u001b[38;5;241m=\u001b[39m_NoValue, where\u001b[38;5;241m=\u001b[39m\u001b[38;5;28;01mTrue\u001b[39;00m):\n\u001b[0;32m---> 45\u001b[0m     \u001b[38;5;28;01mreturn\u001b[39;00m umr_minimum(a, axis, \u001b[38;5;28;01mNone\u001b[39;00m, out, keepdims, initial, where)\n",
      "\u001b[0;31mValueError\u001b[0m: zero-size array to reduction operation minimum which has no identity"
     ]
    }
   ],
   "source": [
    "# print(vismask_dict[subject]['V1_mask'].astype('bool'))\n",
    "subject = 'subj01'\n",
    "mask_viscortex = np.zeros((vismask_dict[subject]['V1_mask'].shape))\n",
    "distinct_roi_colours = 'y'\n",
    "for roi_factor, roi in enumerate(vismask_dict[subject].keys()):\n",
    "    if distinct_roi_colours == 'n':\n",
    "        roi_facor = 1\n",
    "        \n",
    "    # mask_viscortex += (cap_values(vismask_dict[subject][roi],1000) * ((roi_factor + 1)**2))\n",
    "    mask_viscortex += (cap_values(vismask_dict[subject][roi],1000) * ((roi_factor + 1)))\n",
    "\n",
    "\n",
    "mask_v1 = vismask_dict[subject]['V1_mask']\n",
    "prf_par = 'angle'\n",
    "\n",
    "mask_flat = numpy2coords(mask_viscortex)\n",
    "\n",
    "brain = cap_values(np.nan_to_num(prf_dict[subject]['nsd_dat'][prf_par]['prf_ar']),4)\n",
    "brain_flat = numpy2coords(brain, keep_vals = True)\n",
    "\n",
    "comrows = find_common_rows(brain_flat, mask_flat, keep_vals = True)\n",
    "\n",
    "\n",
    "# slice_flt = cap_values(coords2numpy(coordinates = comrows, shape = brain.shape, keep_vals = True), threshold = 4)\n",
    "slice_flt = coords2numpy(coordinates = comrows, shape = brain.shape, keep_vals = True)\n",
    "\n",
    "im = plt.imshow(slice_flt[:,:100,78], cmap = 'inferno')\n",
    "plt.colorbar(im)\n",
    "plt.axis('off')\n",
    "plt.show()"
   ]
  },
  {
   "cell_type": "code",
   "execution_count": 4,
   "metadata": {},
   "outputs": [
    {
     "data": {
      "text/plain": [
       "(-0.5, 185.5, 144.5, -0.5)"
      ]
     },
     "execution_count": 4,
     "metadata": {},
     "output_type": "execute_result"
    },
    {
     "data": {
      "image/png": "[encoded data removed]",
      "text/plain": [
       "<Figure size 640x480 with 1 Axes>"
      ]
     },
     "metadata": {},
     "output_type": "display_data"
    }
   ],
   "source": [
    "# plt.imshow(R2_dict['subj01']['full_R2']['R2_ar'][:,:,77], cmap = 'afmhot')\n",
    "R2_dict = nsd_R2_dict(vismask_dict)\n",
    "\n",
    "R2_dict['subj01']['full_R2']['R2_ar']\n",
    "plt.imshow(coords2numpy(R2_dict['subj01']['R2_roi']['V1_mask'], shape = R2_dict['subj01']['full_R2']['R2_ar'].shape,keep_vals = True)[:,:,77], cmap = 'afmhot')\n",
    "plt.axis('off')"
   ]
  },
  {
   "cell_type": "code",
   "execution_count": 5,
   "metadata": {},
   "outputs": [
    {
     "data": {
      "text/plain": [
       "1.163466453552246"
      ]
     },
     "execution_count": 5,
     "metadata": {},
     "output_type": "execute_result"
    }
   ],
   "source": [
    "R2_dict['subj01']['R2_roi']['V1_mask']\n",
    "# 55, 11, 75\n",
    "R2_dict['subj01']['full_R2']['R2_ar'][55,11,75]"
   ]
  },
  {
   "cell_type": "code",
   "execution_count": 8,
   "metadata": {},
   "outputs": [
    {
     "data": {
      "application/vnd.jupyter.widget-view+json": {
       "model_id": "0f40069d9b314da6bd07f3826535fa92",
       "version_major": 2,
       "version_minor": 0
      },
      "text/plain": [
       "interactive(children=(IntSlider(value=142, description='x', max=426, min=-142), IntSlider(value=6, description…"
      ]
     },
     "metadata": {},
     "output_type": "display_data"
    }
   ],
   "source": [
    "import ipywidgets as widgets\n",
    "from IPython.display import display\n",
    "\n",
    "def viscortex_plot(prf_dict, vismask_dict, plot_param, subject, distinct_roi_colours:bool = True, inv_colour:bool = False, cmap = 'hot',\n",
    "                   lowcap = None, upcap = None):\n",
    "\n",
    "    mask_viscortex = np.zeros((vismask_dict[subject]['V1_mask'].shape))\n",
    "    \n",
    "    # Loop over all rois to create a mask of them conjoined\n",
    "    for roi_factor, roi in enumerate(vismask_dict[subject].keys()):\n",
    "        if distinct_roi_colours:\n",
    "            roi_facor = 1\n",
    "        mask_viscortex += (cap_values(vismask_dict[subject][roi], lower_threshold = lowcap, upper_threshold = upcap) * ((roi_factor + 1)))\n",
    "\n",
    "    mask_flat = numpy2coords(mask_viscortex, keep_vals = True)\n",
    "\n",
    "    if plot_param == 'nsdR2':\n",
    "        R2_dict = nsd_R2_dict(vismask_dict)\n",
    "        brain = cap_values(np.nan_to_num(R2_dict[subject]['full_R2']['R2_ar']), lower_threshold = lowcap, upper_threshold = upcap)\n",
    "    else:\n",
    "        brain = cap_values(np.nan_to_num(prf_dict[subject]['nsd_dat'][plot_param]['prf_ar']), lower_threshold = lowcap, upper_threshold = upcap)\n",
    "    brain_flat = numpy2coords(brain, keep_vals = True)\n",
    "\n",
    "    comrows = find_common_rows(brain_flat, mask_flat, keep_vals = True)\n",
    "\n",
    "    # slice_flt = cap_values(coords2numpy(coordinates = comrows, shape = brain.shape, keep_vals = True), threshold = 4)\n",
    "    slice_flt = coords2numpy(coordinates = comrows, shape = brain.shape, keep_vals = True)\n",
    "\n",
    "    # Create sliders for each dimension\n",
    "    z_slider = widgets.IntSlider(min=0, max=slice_flt.shape[2]-1, description='saggital')\n",
    "    x_slider = widgets.IntSlider(min=0, max=slice_flt.shape[0]-1, description='horizontal:')\n",
    "    # y_slider = widgets.IntSlider(min=0, max=slice_flt.shape[1]-1, description='coronal')\n",
    "    y_slider = widgets.IntSlider(min=6, max=40, description='coronal')\n",
    "\n",
    "    if inv_colour:\n",
    "        rev = '_r'\n",
    "    else:\n",
    "        rev = ''\n",
    "\n",
    "    # Function to update the plot\n",
    "    def _update_plot(x, y, z):\n",
    "        # Create a new figure with 2 subplots\n",
    "        fig, axs = plt.subplots(1, 2, figsize=(16, 8))  # Adjust the size as needed\n",
    "\n",
    "        # Plot the first image on the left subplot\n",
    "        img1 = np.rot90(mask_viscortex[:x, y, :z])\n",
    "        im1 = axs[0].imshow(img1, cmap=f'{cmap}{rev}', vmin=np.min(mask_viscortex), vmax=np.max(mask_viscortex))\n",
    "        axs[0].axis('off')\n",
    "        cbar1 = fig.colorbar(im1, ax=axs[0])\n",
    "        cbar1.set_ticks([1,2,3,4])  # Set tick positions\n",
    "        cbar1.set_ticklabels(['V1', 'V2', 'V3', 'V4'])  # Set tick labels\n",
    "\n",
    "        # Plot the second image on the right subplot\n",
    "        img2 = np.rot90(slice_flt[:x, y, :z])\n",
    "        im2 = axs[1].imshow(img2, cmap=f'{cmap}{rev}', vmin=np.min(brain), vmax=np.max(brain))\n",
    "        axs[1].set_title(f'{plot_param} across visual cortex')\n",
    "        axs[1].axis('off')\n",
    "        fig.colorbar(im2, ax=axs[1])\n",
    "\n",
    "        plt.show()\n",
    "        \n",
    "    widgets.interact(_update_plot, x=slice_flt.shape[0]-1, y=y_slider, z=slice_flt.shape[2]-1)\n",
    "    \n",
    "viscortex_plot(prf_dict = prf_dict, vismask_dict = vismask_dict, plot_param = 'size', subject = 'subj08', upcap = 1, lowcap = 0, inv_colour = False, cmap = 'gist_stern')"
   ]
  },
  {
   "cell_type": "code",
   "execution_count": null,
   "metadata": {},
   "outputs": [],
   "source": [
    "prf_dict.keys()"
   ]
  },
  {
   "cell_type": "code",
   "execution_count": 12,
   "metadata": {},
   "outputs": [
    {
     "ename": "SyntaxError",
     "evalue": "invalid syntax (2735467512.py, line 2)",
     "output_type": "error",
     "traceback": [
      "\u001b[0;36m  Cell \u001b[0;32mIn[12], line 2\u001b[0;36m\u001b[0m\n\u001b[0;31m    def top_voxels(, input_dict = None, top_n = 1000, dataset = 'prf'):\u001b[0m\n\u001b[0m                   ^\u001b[0m\n\u001b[0;31mSyntaxError\u001b[0m\u001b[0;31m:\u001b[0m invalid syntax\n"
     ]
    }
   ],
   "source": [
    "# Expand this function, based on how fast it can be, perhaps also include the valid docs I mention in OneNote.\n",
    "def top_voxels(, input_dict = None, top_n = 1000, dataset = 'prf'):\n",
    "    prf_pars = list(prf_dict['subj01']['proc']['V1_mask'].keys())[:-1]\n",
    "    subjects = list(prf_dict.keys())\n",
    "    \n",
    "    rsq_dict = {}\n",
    "    \n",
    "    if dataset == 'prf':\n",
    "        rois = input_dict['subj01']['proc'].keys()\n",
    "    elif dataset == 'nsd':\n",
    "        rois = input_dict['subj01']['R2_roi'].keys()\n",
    "\n",
    "    for subject in subjects:\n",
    "        subj_rsq = {}\n",
    "        for roi in rois:\n",
    "            if dataset == 'prf':\n",
    "                rsq_ar = input_dict[subject]['proc'][roi]['R2']\n",
    "                \n",
    "            elif dataset == 'nsd':\n",
    "                rsq_ar = input_dict[subject]['R2_roi'][roi]\n",
    "                \n",
    "            rsq_sort = np.argsort(rsq_ar[:, -1])\n",
    "            rsq_top = rsq_ar[rsq_sort[-top_n:]]\n",
    "            subj_rsq[roi] = rsq_top\n",
    "            \n",
    "        rsq_dict[subject] = subj_rsq\n",
    "    return rsq_dict"
   ]
  },
  {
   "cell_type": "code",
   "execution_count": null,
   "metadata": {},
   "outputs": [],
   "source": [
    "from torch import nan_to_num\n",
    "\n",
    "\n",
    "(prf_dict['subj01']['proc']['V1_mask']['R2'])\n",
    "np.sum(vismask_dict['subj01']['V1_mask'])\n",
    "print(list(prf_dict['subj01']['proc']['V1_mask'].keys())[:-1])\n",
    "\n",
    "# get_zscore(np.nan_to_num(prf_dict['subj01']['nsd_dat']['R2']['prf_ar']))"
   ]
  },
  {
   "cell_type": "code",
   "execution_count": 14,
   "metadata": {},
   "outputs": [
    {
     "data": {
      "text/plain": [
       "nan"
      ]
     },
     "execution_count": 14,
     "metadata": {},
     "output_type": "execute_result"
    }
   ],
   "source": [
    "R2_dict = nsd_R2_dict(vismask_dict)\n",
    "(R2_dict['subj01']['full_R2']['R2_ar'][12,55,1])"
   ]
  },
  {
   "cell_type": "code",
   "execution_count": 160,
   "metadata": {},
   "outputs": [],
   "source": [
    "# def find_top_vox(subject = 'subj01',roi = 'V1', prf_dict = None, vismask_dict = None):\n",
    "#     roi_voxels = numpy2coords(vismask_dict[subject][f'{roi}_mask'], keep_vals = False)\n",
    "#     prf_pars = (list(prf_dict['subj01']['proc']['V1_mask'].keys())[:-1])\n",
    "    \n",
    "#     top_vox_dict = {}\n",
    "#     # for i in range(np.sum(vismask_dict[subject][f'{roi}_mask'])):\n",
    "#     for i in range(10):\n",
    "#         top_vox_dict[f'voxel{i}'] = {}\n",
    "#         these_coords = list(roi_voxels[i])\n",
    "#         for prf_par in prf_pars:\n",
    "#             prf_par_vals = prf_dict[subject]['nsd_dat'][prf_par]['prf_ar'][these_coords[0], these_coords[1], these_coords[2]]\n",
    "#             top_vox_dict[f'voxel{i}'][prf_par] = prf_par_vals\n",
    "#             # print(f'{prf_par}: {prf_par_vals}')\n",
    "            \n",
    "#     return top_vox_dict\n",
    "        \n",
    "def find_top_vox(subject = 'subj01', roi = 'V1', n_voxels = None, prf_dict = None, vismask_dict = None):\n",
    "    roi_voxels = numpy2coords(vismask_dict[subject][f'{roi}_mask'], keep_vals = False)\n",
    "    prf_pars = (list(prf_dict['subj01']['proc']['V1_mask'].keys())[:-1])\n",
    "    R2_dict = nsd_R2_dict(vismask_dict)\n",
    "    brain_shape = vismask_dict[subject][f'{roi}_mask'].shape\n",
    "\n",
    "    if n_voxels == None or n_voxels == 'all':\n",
    "        max_voxels = np.sum(vismask_dict[subject][f'{roi}_mask'])\n",
    "    else: max_voxels = n_voxels\n",
    "\n",
    "    top_vox_dict = {}\n",
    "    voxel_count = 0\n",
    "    for n_vox, these_coords in enumerate(roi_voxels):\n",
    "        these_coords = list(these_coords)\n",
    "        voxel_pars = {}\n",
    "        voxel_pars['xyz'] = these_coords\n",
    "        voxel_pars['roi'] = roi\n",
    "        for prf_par in prf_pars:\n",
    "            prf_par_vals = prf_dict[subject]['nsd_dat'][prf_par]['prf_ar'][these_coords[0], these_coords[1], these_coords[2]]\n",
    "            voxel_pars[prf_par] = prf_par_vals\n",
    "        # Also add the NSD Rsquared value to the dict.\n",
    "        voxel_pars['nsdR2'] = R2_dict[subject]['full_R2']['R2_ar'][these_coords[0], these_coords[1], these_coords[2]]\n",
    "        \n",
    "        # Check if the voxel parameters meet the conditions\n",
    "        if (0 <= voxel_pars['eccentricity']+(voxel_pars['size']/2) <= 1 and\n",
    "            .3 <= voxel_pars['size'] <= 1 and\n",
    "            0 <= voxel_pars['R2'] and\n",
    "            10 <= voxel_pars['nsdR2']):\n",
    "            top_vox_dict[f'voxel{voxel_count}'] = voxel_pars\n",
    "            voxel_count += 1\n",
    "            if voxel_count >= max_voxels:  # Stop after finding 10 voxels\n",
    "                break\n",
    "\n",
    "\n",
    "    print(f'Found {voxel_count} voxels in {roi}')\n",
    "    return top_vox_dict\n",
    "\n",
    "# topvoxels = find_top_vox(subject = 'subj01', roi = 'V1', prf_dict = prf_dict, vismask_dict = vismask_dict)\n",
    "\n",
    "    \n",
    "\n",
    "# plot_voxel_parameters_per_voxel(topvoxels)"
   ]
  },
  {
   "cell_type": "code",
   "execution_count": 161,
   "metadata": {},
   "outputs": [
    {
     "name": "stdout",
     "output_type": "stream",
     "text": [
      "Found 19 voxels in V1\n"
     ]
    },
    {
     "data": {
      "text/plain": [
       "{'voxel0': {'xyz': [61, 7, 79],\n",
       "  'roi': 'V1',\n",
       "  'angle': 303.47210693359375,\n",
       "  'eccentricity': 0.7352831363677979,\n",
       "  'exponent': 0.04334133490920067,\n",
       "  'gain': 0.5785065293312073,\n",
       "  'meanvol': 536.594482421875,\n",
       "  'R2': 43.0206413269043,\n",
       "  'size': 0.3379667103290558,\n",
       "  'nsdR2': 10.155738830566406},\n",
       " 'voxel1': {'xyz': [61, 8, 74],\n",
       "  'roi': 'V1',\n",
       "  'angle': 338.9823303222656,\n",
       "  'eccentricity': 0.7683806419372559,\n",
       "  'exponent': 0.08877972513437271,\n",
       "  'gain': 0.22351054847240448,\n",
       "  'meanvol': 628.3157958984375,\n",
       "  'R2': 45.9014778137207,\n",
       "  'size': 0.3408828675746918,\n",
       "  'nsdR2': 11.616886138916016},\n",
       " 'voxel2': {'xyz': [62, 7, 79],\n",
       "  'roi': 'V1',\n",
       "  'angle': 298.5461730957031,\n",
       "  'eccentricity': 0.7036833763122559,\n",
       "  'exponent': 0.0985502228140831,\n",
       "  'gain': 0.4135509133338928,\n",
       "  'meanvol': 538.77587890625,\n",
       "  'R2': 50.19745635986328,\n",
       "  'size': 0.3136831223964691,\n",
       "  'nsdR2': 17.76752471923828},\n",
       " 'voxel3': {'xyz': [62, 8, 67],\n",
       "  'roi': 'V1',\n",
       "  'angle': 45.54307556152344,\n",
       "  'eccentricity': 0.6104909777641296,\n",
       "  'exponent': 0.5421090126037598,\n",
       "  'gain': 0.014213809743523598,\n",
       "  'meanvol': 604.9675903320312,\n",
       "  'R2': 34.70960998535156,\n",
       "  'size': 0.31899577379226685,\n",
       "  'nsdR2': 14.488513946533203},\n",
       " 'voxel4': {'xyz': [62, 8, 81],\n",
       "  'roi': 'V1',\n",
       "  'angle': 288.8948059082031,\n",
       "  'eccentricity': 0.7643709778785706,\n",
       "  'exponent': 0.05035306513309479,\n",
       "  'gain': 0.40359652042388916,\n",
       "  'meanvol': 524.4481811523438,\n",
       "  'R2': 61.819679260253906,\n",
       "  'size': 0.34631744027137756,\n",
       "  'nsdR2': 16.593875885009766},\n",
       " 'voxel5': {'xyz': [63, 8, 76],\n",
       "  'roi': 'V1',\n",
       "  'angle': 322.13427734375,\n",
       "  'eccentricity': 0.76884925365448,\n",
       "  'exponent': 0.08143886178731918,\n",
       "  'gain': 0.27162712812423706,\n",
       "  'meanvol': 741.9197387695312,\n",
       "  'R2': 45.24747085571289,\n",
       "  'size': 0.3130132555961609,\n",
       "  'nsdR2': 12.283343315124512},\n",
       " 'voxel6': {'xyz': [63, 8, 78],\n",
       "  'roi': 'V1',\n",
       "  'angle': 286.9956970214844,\n",
       "  'eccentricity': 0.6118820309638977,\n",
       "  'exponent': 0.07346149533987045,\n",
       "  'gain': 0.1965254545211792,\n",
       "  'meanvol': 649.0903930664062,\n",
       "  'R2': 31.722545623779297,\n",
       "  'size': 0.3267526626586914,\n",
       "  'nsdR2': 17.138980865478516},\n",
       " 'voxel7': {'xyz': [64, 8, 77],\n",
       "  'roi': 'V1',\n",
       "  'angle': 302.103271484375,\n",
       "  'eccentricity': 0.7618729472160339,\n",
       "  'exponent': 0.0591721348464489,\n",
       "  'gain': 0.5494018793106079,\n",
       "  'meanvol': 750.1817016601562,\n",
       "  'R2': 45.84934616088867,\n",
       "  'size': 0.30914223194122314,\n",
       "  'nsdR2': 18.231403350830078},\n",
       " 'voxel8': {'xyz': [64, 8, 79],\n",
       "  'roi': 'V1',\n",
       "  'angle': 302.9409484863281,\n",
       "  'eccentricity': 0.779077410697937,\n",
       "  'exponent': 0.08114932477474213,\n",
       "  'gain': 0.5388244986534119,\n",
       "  'meanvol': 615.4099731445312,\n",
       "  'R2': 55.994625091552734,\n",
       "  'size': 0.32425540685653687,\n",
       "  'nsdR2': 20.32533073425293},\n",
       " 'voxel9': {'xyz': [64, 8, 80],\n",
       "  'roi': 'V1',\n",
       "  'angle': 303.13421630859375,\n",
       "  'eccentricity': 0.7818517684936523,\n",
       "  'exponent': 0.06680320203304291,\n",
       "  'gain': 0.49032849073410034,\n",
       "  'meanvol': 592.3780517578125,\n",
       "  'R2': 58.95674133300781,\n",
       "  'size': 0.3381907343864441,\n",
       "  'nsdR2': 16.262039184570312},\n",
       " 'voxel10': {'xyz': [65, 9, 74],\n",
       "  'roi': 'V1',\n",
       "  'angle': 322.6609191894531,\n",
       "  'eccentricity': 0.8145262598991394,\n",
       "  'exponent': 0.043386753648519516,\n",
       "  'gain': 0.35485097765922546,\n",
       "  'meanvol': 596.2505493164062,\n",
       "  'R2': 47.58294677734375,\n",
       "  'size': 0.3477495312690735,\n",
       "  'nsdR2': 12.989811897277832},\n",
       " 'voxel11': {'xyz': [65, 9, 75],\n",
       "  'roi': 'V1',\n",
       "  'angle': 321.15155029296875,\n",
       "  'eccentricity': 0.7694999575614929,\n",
       "  'exponent': 0.0870855301618576,\n",
       "  'gain': 0.43785712122917175,\n",
       "  'meanvol': 673.3600463867188,\n",
       "  'R2': 53.51252365112305,\n",
       "  'size': 0.30684128403663635,\n",
       "  'nsdR2': 13.799199104309082},\n",
       " 'voxel12': {'xyz': [94, 14, 64],\n",
       "  'roi': 'V1',\n",
       "  'angle': 140.36448669433594,\n",
       "  'eccentricity': 0.7875063419342041,\n",
       "  'exponent': 0.060652073472738266,\n",
       "  'gain': 1.0099018812179565,\n",
       "  'meanvol': 120.77677154541016,\n",
       "  'R2': 31.013261795043945,\n",
       "  'size': 0.31119683384895325,\n",
       "  'nsdR2': 11.424654960632324},\n",
       " 'voxel13': {'xyz': [94, 14, 83],\n",
       "  'roi': 'V1',\n",
       "  'angle': 256.26544189453125,\n",
       "  'eccentricity': 0.7706026434898376,\n",
       "  'exponent': 0.043218862265348434,\n",
       "  'gain': 0.5809670090675354,\n",
       "  'meanvol': 958.5894775390625,\n",
       "  'R2': 52.009071350097656,\n",
       "  'size': 0.3029724955558777,\n",
       "  'nsdR2': 20.705041885375977},\n",
       " 'voxel14': {'xyz': [94, 15, 85],\n",
       "  'roi': 'V1',\n",
       "  'angle': 278.9212951660156,\n",
       "  'eccentricity': 0.8167059421539307,\n",
       "  'exponent': 0.03487865999341011,\n",
       "  'gain': 0.27276670932769775,\n",
       "  'meanvol': 695.1532592773438,\n",
       "  'R2': 51.669647216796875,\n",
       "  'size': 0.3130270540714264,\n",
       "  'nsdR2': 11.767988204956055},\n",
       " 'voxel15': {'xyz': [95, 14, 81],\n",
       "  'roi': 'V1',\n",
       "  'angle': 255.95343017578125,\n",
       "  'eccentricity': 0.758758008480072,\n",
       "  'exponent': 0.06488898396492004,\n",
       "  'gain': 0.3619128465652466,\n",
       "  'meanvol': 876.8680419921875,\n",
       "  'R2': 35.33024597167969,\n",
       "  'size': 0.34494680166244507,\n",
       "  'nsdR2': 14.984825134277344},\n",
       " 'voxel16': {'xyz': [95, 14, 85],\n",
       "  'roi': 'V1',\n",
       "  'angle': 282.72430419921875,\n",
       "  'eccentricity': 0.804600715637207,\n",
       "  'exponent': 0.07106231898069382,\n",
       "  'gain': 0.28794747591018677,\n",
       "  'meanvol': 791.998779296875,\n",
       "  'R2': 50.38848114013672,\n",
       "  'size': 0.3079576790332794,\n",
       "  'nsdR2': 17.984384536743164},\n",
       " 'voxel17': {'xyz': [95, 15, 68],\n",
       "  'roi': 'V1',\n",
       "  'angle': 138.9236602783203,\n",
       "  'eccentricity': 0.7828612327575684,\n",
       "  'exponent': 0.07692216336727142,\n",
       "  'gain': 0.3960586488246918,\n",
       "  'meanvol': 679.7982177734375,\n",
       "  'R2': 37.33831024169922,\n",
       "  'size': 0.3132559657096863,\n",
       "  'nsdR2': 10.6865873336792},\n",
       " 'voxel18': {'xyz': [96, 12, 78],\n",
       "  'roi': 'V1',\n",
       "  'angle': 214.5192108154297,\n",
       "  'eccentricity': 0.7785375714302063,\n",
       "  'exponent': 0.08191930502653122,\n",
       "  'gain': 0.247128427028656,\n",
       "  'meanvol': 805.6849975585938,\n",
       "  'R2': 27.399110794067383,\n",
       "  'size': 0.31330129504203796,\n",
       "  'nsdR2': 10.022154808044434}}"
      ]
     },
     "execution_count": 161,
     "metadata": {},
     "output_type": "execute_result"
    }
   ],
   "source": [
    "topvoxels = find_top_vox(subject = 'subj01',roi = 'V1', n_voxels = 'all', prf_dict = prf_dict, vismask_dict = vismask_dict)\n",
    "\n",
    "topvoxels\n",
    "# topvoxels['voxel0']"
   ]
  },
  {
   "cell_type": "code",
   "execution_count": 72,
   "metadata": {},
   "outputs": [],
   "source": [
    "def plot_this_vox(dim = 425, vox_dict_item = None, type:str = None, add_central_patch:bool = False, \n",
    "                  outline_rad = 1):\n",
    "    \n",
    "    # Get the coordinate indices of the voxel\n",
    "    x_vox, y_vox, z_vox = [vox_dict_item['xyz'][i] for i in range(3)]\n",
    "    prf_size = vox_dict_item['size']\n",
    "    prf_angle = vox_dict_item['angle']\n",
    "    prf_ecc = vox_dict_item['eccentricity']\n",
    "    prf_expt = vox_dict_item['exponent']\n",
    "    prf_gain = vox_dict_item['gain']\n",
    "    prf_rsq = vox_dict_item['R2']\n",
    "    nsdR2 = vox_dict_item['nsdR2']\n",
    "    prf_meanvol = vox_dict_item['meanvol']\n",
    "    roi = vox_dict_item['roi']\n",
    "    \n",
    "    # Calculate the radius\n",
    "    sigma = prf_size * np.sqrt(prf_expt)\n",
    "    sigma_pure = sigma * (dim / 8.4)\n",
    "    \n",
    "    # Get the 2d coordinates of the pRF\n",
    "    y = ((1 + dim) / 2) - (prf_ecc * np.sin(np.radians(prf_angle)) * (dim / 8.4)) #y in pix (c_index)\n",
    "    x = ((1 + dim) / 2) + (prf_ecc * np.cos(np.radians(prf_angle)) * (dim / 8.4)) #x in pix (r_index)\n",
    "\n",
    "    if type == 'circle' or type == 'gaussian':\n",
    "        deg_radius = sigma\n",
    "        pix_radius = sigma_pure\n",
    "    elif type == 'cut_gaussian' or type == 'full_gaussian' or type == 'outline':\n",
    "        deg_radius = prf_size\n",
    "        pix_radius = prf_size * (dim / 8.4)\n",
    "\n",
    "\n",
    "    # Note: all the masks are made using pixel values for x, y, and sigma\n",
    "    # Check whether the same is done later on, in the heatmaps and get_img_prf.\n",
    "    if type == 'gaussian':\n",
    "        prf_mask = make_gaussian_2d(dim, x, y, sigma_pure)\n",
    "    elif type == 'circle':\n",
    "        prf_mask = make_circle_mask(dim, x, y, sigma_pure)\n",
    "    elif type == 'full_gaussian':\n",
    "        prf_mask = make_gaussian_2d(dim, x, y, prf_size * (dim / 8.4))\n",
    "    elif type == 'cut_gaussian':\n",
    "        prf_mask = css_gaussian_cut(dim, x, y, prf_size * (dim / 8.4))\n",
    "    else:\n",
    "        raise ValueError(f\"Invalid type: {type}. Available mask types are 'gaussian','circle','full_gaussian','cut_gaussian'.\")\n",
    "    \n",
    "    central_patch = 0\n",
    "    if add_central_patch:\n",
    "        central_patch = make_circle_mask(dim, ((dim+2)/2), ((dim+2)/2), outline_rad * (dim / 8.4), fill = 'n')\n",
    "\n",
    "    # Convert pixel indices to degrees of visual angle\n",
    "    degrees_per_pixel = 8.4 / dim\n",
    "    x_deg = (x - ((dim + 2) / 2)) * degrees_per_pixel\n",
    "    y_deg = (((dim + 2) / 2) - y) * degrees_per_pixel\n",
    "    \n",
    "    fig, ax = plt.subplots(figsize=(8, 8))\n",
    "    ax.imshow((prf_mask + central_patch), cmap='bone', origin='upper', extent=[-4.2, 4.2, -4.2, 4.2])\n",
    "    ax.set_title(f'Region Of Interest: {roi}\\n'\n",
    "                f'Voxel: [{x_vox}, {y_vox}, {z_vox}]\\n'\n",
    "                f'pRF x,y,σ: {round(x_deg, 1), round(y_deg, 1), round(deg_radius, 1)}\\n'\n",
    "                f'Angle: {round(prf_angle, 2)}°\\nEccentricity: {round(prf_ecc, 2)}°\\n'\n",
    "                f'Exponent: {round(prf_expt, 2)}\\nSize: {round(prf_size, 2)}°\\n'\n",
    "                f'Explained pRF variance (R2): {round(prf_rsq, 2)}%\\n'\n",
    "                f'NSD R-squared: {round(nsdR2, 2)}%\\n'\n",
    "                f'pRF R-squared: {round(prf_rsq, 2)}%\\n'\n",
    "                f'pRF Gain: {round((prf_gain / prf_meanvol) *100, 2)}% BOLD\\n')\n",
    "    ax.set_xlabel('Horizontal Degrees of Visual Angle')\n",
    "    ax.set_ylabel('Vertical Degrees of Visual Angle')\n",
    "\n",
    "    # Set ticks at every 0.1 step\n",
    "    ax.xaxis.set_major_locator(MultipleLocator(0.5))\n",
    "    ax.yaxis.set_major_locator(MultipleLocator(0.5))"
   ]
  },
  {
   "cell_type": "code",
   "execution_count": 181,
   "metadata": {},
   "outputs": [
    {
     "ename": "KeyError",
     "evalue": "'voxel19'",
     "output_type": "error",
     "traceback": [
      "\u001b[0;31m---------------------------------------------------------------------------\u001b[0m",
      "\u001b[0;31mKeyError\u001b[0m                                  Traceback (most recent call last)",
      "Cell \u001b[0;32mIn[181], line 3\u001b[0m\n\u001b[1;32m      1\u001b[0m \u001b[38;5;66;03m# numbo = 0\u001b[39;00m\n\u001b[1;32m      2\u001b[0m numbo \u001b[38;5;241m+\u001b[39m\u001b[38;5;241m=\u001b[39m \u001b[38;5;241m1\u001b[39m\n\u001b[0;32m----> 3\u001b[0m plot_this_vox(dim \u001b[38;5;241m=\u001b[39m \u001b[38;5;241m425\u001b[39m, vox_dict_item \u001b[38;5;241m=\u001b[39m \u001b[43mtopvoxels\u001b[49m\u001b[43m[\u001b[49m\u001b[38;5;124;43mf\u001b[39;49m\u001b[38;5;124;43m'\u001b[39;49m\u001b[38;5;124;43mvoxel\u001b[39;49m\u001b[38;5;132;43;01m{\u001b[39;49;00m\u001b[43mnumbo\u001b[49m\u001b[38;5;132;43;01m}\u001b[39;49;00m\u001b[38;5;124;43m'\u001b[39;49m\u001b[43m]\u001b[49m, \u001b[38;5;28mtype\u001b[39m \u001b[38;5;241m=\u001b[39m \u001b[38;5;124m'\u001b[39m\u001b[38;5;124mcut_gaussian\u001b[39m\u001b[38;5;124m'\u001b[39m, add_central_patch \u001b[38;5;241m=\u001b[39m \u001b[38;5;28;01mTrue\u001b[39;00m, outline_rad \u001b[38;5;241m=\u001b[39m \u001b[38;5;241m1\u001b[39m)\n",
      "\u001b[0;31mKeyError\u001b[0m: 'voxel19'"
     ]
    }
   ],
   "source": [
    "# numbo = 0\n",
    "numbo += 1\n",
    "plot_this_vox(dim = 425, vox_dict_item = topvoxels[f'voxel{numbo}'], type = 'cut_gaussian', add_central_patch = True, outline_rad = 1)"
   ]
  },
  {
   "cell_type": "code",
   "execution_count": 92,
   "metadata": {},
   "outputs": [
    {
     "data": {
      "image/png": "[encoded data removed]",
      "text/plain": [
       "<Figure size 800x800 with 1 Axes>"
      ]
     },
     "metadata": {},
     "output_type": "display_data"
    }
   ],
   "source": [
    "prf_info = get_mask(dim = 425, subject = 'subj01', binary_masks = vismask_dict, \n",
    "                                        prf_proc_dict = prf_dict, type='cut_gaussian', roi='V1',\n",
    "                                        plot = 'y', excl_reason = 'n', sigma_min=.1, sigma_max = 2,\n",
    "                                        ecc_min = 0, ecc_max = 3,\n",
    "                                        angle_min = 0, angle_max = 360, nsdR2_min = 20)\n"
   ]
  },
  {
   "cell_type": "code",
   "execution_count": 21,
   "metadata": {},
   "outputs": [],
   "source": [
    "# Load in the original RMS dict (where RMS is calculated before cropping)\n",
    "with open('./data/custom_files/all_visfeats_rms.pkl', 'rb') as fp:\n",
    "   visfeats_rms = pickle.load(fp)\n",
    "   \n",
    "# Load in the new RMS dict (where RMS is calculated after cropping, thus cropping prior to RMS)\n",
    "with open('./data/custom_files/all_visfeats_rms_crop_prior.pkl', 'rb') as fp:\n",
    "   visfeats_rms_crop_prior = pickle.load(fp)\n",
    "   \n",
    "# Load in the Spatial Coherence and Contrast Energy dictionary (this is still where for both the pooling range was 1 degree visual angle)\n",
    "with open('/home/rfpred/data/custom_files/all_visfeats_scce.pkl', 'rb') as fp:\n",
    "    visfeats_scce = pickle.load(fp)\n",
    "    \n",
    "# Load in the Spatial Coherence and Contrast Energy dictionary (here the pooling range was 2.8 degrees of visual angle, so only look at SC)\n",
    "with open('/home/rfpred/data/custom_files/all_visfeats_scce_large.pkl', 'rb') as fp:\n",
    "    visfeats_scce_large = pickle.load(fp)\n",
    "    \n",
    "# Load in the .h5 file containing the predictability estimates for subject 01\n",
    "with h5py.File('/home/rfpred/data/custom_files/subj01/pred/all_predestims.h5', 'r') as hf:\n",
    "    data = hf.keys()\n",
    "    predfeats = {key: np.array(hf[key]).flatten() for key in data}"
   ]
  },
  {
   "cell_type": "code",
   "execution_count": 22,
   "metadata": {},
   "outputs": [],
   "source": [
    "# Load in the saved masks for selected voxels that have their prf inside the inner patch.\n",
    "with open('./data/custom_files/subj01/prf_mask_center_strict.pkl', 'rb') as fp:\n",
    "    prf_mask_center_strict = pickle.load(fp)\n",
    "    \n",
    "# Load in the saved masks for voxels with pRF inside central 1.25 degrees patch\n",
    "with open('./data/custom_files/subj01/prf_mask_central_strict_l.pkl', 'rb') as fp:\n",
    "   prf_mask_center_strict_l = pickle.load(fp)    \n",
    "\n",
    "# Load in the saved masks for voxels with pRF loosely (at least 50%) inside central 1 degrees patch\n",
    "with open('./data/custom_files/subj01/prf_mask_central_halfloose.pkl', 'rb') as fp:\n",
    "   prf_mask_central_halfloose = pickle.load(fp)    \n",
    "\n",
    "# Load in the saved masks for voxels with pRFs that have their center inside the central 1 degree patch\n",
    "with open('./data/custom_files/subj01/prf_mask_central_loose.pkl', 'rb') as fp:\n",
    "    prf_mask_central_loose = pickle.load(fp) \n",
    "\n",
    "# Load in the saved masks that have their pRFs exclusively outside the central 1 degree patch\n",
    "with open('./data/custom_files/subj01/prf_mask_periphery_strict.pkl', 'rb') as fp:\n",
    "   prf_mask_periphery_strict = pickle.load(fp)\n",
    "  \n",
    "  \n",
    "# THESE ARE TOO SCARCE, ALMOST NO VOXELS ARE LEFT OVER \n",
    "# # Load in the prf-based rsquared selections\n",
    "# with open('/home/rfpred/data/custom_files/subj01/prf_mask_center_strict_prf_rsq.pkl', 'rb') as fp:\n",
    "#    prf_mask_center_strict_prf_rsq = pickle.load(fp)   \n",
    "\n",
    "# # Load in the prf-based rsquared selections\n",
    "# with open('/home/rfpred/data/custom_files/subj01/prf_mask_center_strict_nsd_rsq.pkl', 'rb') as fp:\n",
    "#    prf_mask_center_strict_nsd_rsq = pickle.load(fp)   "
   ]
  },
  {
   "cell_type": "code",
   "execution_count": 23,
   "metadata": {},
   "outputs": [],
   "source": [
    "def rsq_map(subject = 'subj01', top_n = 1000, dataset = 'prf'):\n",
    "    if dataset == 'prf':\n",
    "        dict = rsquare_selection(prf_dict, top_n, n_subjects = 8, dataset = dataset)\n",
    "        "
   ]
  },
  {
   "cell_type": "code",
   "execution_count": 24,
   "metadata": {},
   "outputs": [],
   "source": [
    "R2_dict = nsd_R2_dict(vismask_dict)\n",
    "\n",
    "\n",
    "\n",
    "prf_rsq_dict = rsquare_selection(prf_dict, 1000, n_subjects = n_subjects, dataset = 'prf')\n",
    "prf_rsq_dict_mapped = coords2numpy(prf_rsq_dict['subj01']['V1_mask'], shape = vismask_dict['subj01']['V1_mask'].shape, keep_vals = True)\n",
    "nsd_rsq_dict = rsquare_selection(R2_dict, 1000, n_subjects = n_subjects, dataset = 'nsd')"
   ]
  },
  {
   "cell_type": "code",
   "execution_count": null,
   "metadata": {},
   "outputs": [],
   "source": [
    "import mne\n",
    "print(nsd_rsq_dict['subj01']['V1_mask'])\n",
    "\n",
    "\n",
    "print (prf_dict['subj01']['proc']['V1_mask']['R2'])\n",
    "\n",
    "print(prf_dict['subj01']['nsd_dat']['angle']['prf_ar'].shape)\n",
    "\n",
    "\n",
    "from nilearn import plotting\n",
    "import nibabel as nib\n",
    "\n",
    "# Load the NIfTI image\n",
    "# img = nib.load('path_to_your_nifti_file.nii.gz')\n",
    "img = prf_dict['subj01']['nsd_dat']['angle']['prf_dat']\n",
    "\n",
    "# Plot the NIfTI image\n",
    "plotting.plot_img(img)\n",
    "plotting.show()\n",
    "\n",
    "# Get the image data as a numpy array\n",
    "data = img.get_fdata()\n",
    "\n",
    "# Replace NaN values with zeros\n",
    "data = np.nan_to_num(data)\n",
    "\n",
    "# Create a new NIfTI image with the modified data\n",
    "new_img = nib.Nifti1Image(data, img.affine, img.header)\n",
    "\n",
    "# Now you can use new_img in place of img\n",
    "\n",
    "# Plot the NIfTI image\n",
    "plotting.plot_img(new_img)\n",
    "plotting.show()"
   ]
  },
  {
   "cell_type": "code",
   "execution_count": null,
   "metadata": {},
   "outputs": [],
   "source": [
    "hrf_dict_tight, voxmask_tight, joint_voxs, sizes  = get_hrf_dict('subj01', voxels = prf_mask_center_strict_prf_rsq[0], prf_region = 'center_strict', \n",
    "                                             min_size = .1, max_size = 2, prf_proc_dict = prf_dict, vox_n_cutoff = None ,plot_sizes = 'y')"
   ]
  },
  {
   "cell_type": "code",
   "execution_count": 29,
   "metadata": {},
   "outputs": [
    {
     "name": "stdout",
     "output_type": "stream",
     "text": [
      "beta_dict0_2.pkl\n"
     ]
    },
    {
     "ename": "IndexError",
     "evalue": "index 3 is out of bounds for axis 0 with size 3",
     "output_type": "error",
     "traceback": [
      "\u001b[0;31m---------------------------------------------------------------------------\u001b[0m",
      "\u001b[0;31mIndexError\u001b[0m                                Traceback (most recent call last)",
      "Cell \u001b[0;32mIn[29], line 5\u001b[0m\n\u001b[1;32m      1\u001b[0m \u001b[38;5;66;03m# 1 min\u001b[39;00m\n\u001b[1;32m      2\u001b[0m \u001b[38;5;66;03m# hrf_dict_tight, voxmask_tight, joint_voxs, sizes  = get_hrf_dict('subj01', voxels = prf_mask_center_strict, prf_region = 'center_strict', \u001b[39;00m\n\u001b[1;32m      3\u001b[0m \u001b[38;5;66;03m#                                              min_size = .25, max_size = 1, prf_proc_dict = prf_dict, vox_n_cutoff = 150,plot_sizes = 'y')\u001b[39;00m\n\u001b[0;32m----> 5\u001b[0m hrf_dict_tight, voxmask_tight, joint_voxs, sizes  \u001b[38;5;241m=\u001b[39m \u001b[43mget_hrf_dict\u001b[49m\u001b[43m(\u001b[49m\u001b[38;5;124;43m'\u001b[39;49m\u001b[38;5;124;43msubj01\u001b[39;49m\u001b[38;5;124;43m'\u001b[39;49m\u001b[43m,\u001b[49m\u001b[43m \u001b[49m\u001b[43mvoxels\u001b[49m\u001b[43m \u001b[49m\u001b[38;5;241;43m=\u001b[39;49m\u001b[43m \u001b[49m\u001b[43mprf_mask_center_strict\u001b[49m\u001b[43m,\u001b[49m\u001b[43m \u001b[49m\u001b[43mprf_region\u001b[49m\u001b[43m \u001b[49m\u001b[38;5;241;43m=\u001b[39;49m\u001b[43m \u001b[49m\u001b[38;5;124;43m'\u001b[39;49m\u001b[38;5;124;43mcenter_strict\u001b[39;49m\u001b[38;5;124;43m'\u001b[39;49m\u001b[43m,\u001b[49m\u001b[43m \u001b[49m\n\u001b[1;32m      6\u001b[0m \u001b[43m                                             \u001b[49m\u001b[43mmin_size\u001b[49m\u001b[43m \u001b[49m\u001b[38;5;241;43m=\u001b[39;49m\u001b[43m \u001b[49m\u001b[38;5;241;43m.2\u001b[39;49m\u001b[43m,\u001b[49m\u001b[43m \u001b[49m\u001b[43mmax_size\u001b[49m\u001b[43m \u001b[49m\u001b[38;5;241;43m=\u001b[39;49m\u001b[43m \u001b[49m\u001b[38;5;241;43m2\u001b[39;49m\u001b[43m,\u001b[49m\u001b[43m \u001b[49m\u001b[43mprf_proc_dict\u001b[49m\u001b[43m \u001b[49m\u001b[38;5;241;43m=\u001b[39;49m\u001b[43m \u001b[49m\u001b[43mprf_dict\u001b[49m\u001b[43m,\u001b[49m\u001b[43m \u001b[49m\u001b[43mvox_n_cutoff\u001b[49m\u001b[43m \u001b[49m\u001b[38;5;241;43m=\u001b[39;49m\u001b[43m \u001b[49m\u001b[38;5;28;43;01mNone\u001b[39;49;00m\u001b[43m \u001b[49m\u001b[43m,\u001b[49m\u001b[43mplot_sizes\u001b[49m\u001b[43m \u001b[49m\u001b[38;5;241;43m=\u001b[39;49m\u001b[43m \u001b[49m\u001b[38;5;124;43m'\u001b[39;49m\u001b[38;5;124;43my\u001b[39;49m\u001b[38;5;124;43m'\u001b[39;49m\u001b[43m)\u001b[49m\n",
      "File \u001b[0;32m/home/rfpred/funcs/analyses.py:55\u001b[0m, in \u001b[0;36mget_hrf_dict\u001b[0;34m(subjects, voxels, prf_region, min_size, max_size, prf_proc_dict, vox_n_cutoff, plot_sizes)\u001b[0m\n\u001b[1;32m     52\u001b[0m preselect_voxels \u001b[38;5;241m=\u001b[39m numpy2coords(voxel_mask)\n\u001b[1;32m     53\u001b[0m size_selected_voxels \u001b[38;5;241m=\u001b[39m filter_array_by_size(prf_proc_dict[subject][\u001b[38;5;124m'\u001b[39m\u001b[38;5;124mproc\u001b[39m\u001b[38;5;124m'\u001b[39m][roi][\u001b[38;5;124m'\u001b[39m\u001b[38;5;124msize\u001b[39m\u001b[38;5;124m'\u001b[39m], min_size, max_size)\n\u001b[0;32m---> 55\u001b[0m joint_voxels \u001b[38;5;241m=\u001b[39m \u001b[43mfind_common_rows\u001b[49m\u001b[43m(\u001b[49m\u001b[43mpreselect_voxels\u001b[49m\u001b[43m,\u001b[49m\u001b[43m \u001b[49m\u001b[43msize_selected_voxels\u001b[49m\u001b[43m)\u001b[49m[:vox_n_cutoff,:] \u001b[38;5;66;03m# This cutoff is to allow for checking whether the amount of voxels per category matters (peripher/central)\u001b[39;00m\n\u001b[1;32m     57\u001b[0m voxel_mask \u001b[38;5;241m=\u001b[39m coords2numpy(joint_voxels, voxels[\u001b[38;5;124m'\u001b[39m\u001b[38;5;124msubj01\u001b[39m\u001b[38;5;124m'\u001b[39m][\u001b[38;5;124m'\u001b[39m\u001b[38;5;124mV1_mask\u001b[39m\u001b[38;5;124m'\u001b[39m]\u001b[38;5;241m.\u001b[39mshape) \u001b[38;5;241m*\u001b[39m \u001b[38;5;241m1\u001b[39m\n\u001b[1;32m     59\u001b[0m \u001b[38;5;66;03m# Acquire the specific RF sizes for inspection, plots.\u001b[39;00m\n",
      "File \u001b[0;32m/home/rfpred/funcs/utility.py:197\u001b[0m, in \u001b[0;36mfind_common_rows\u001b[0;34m(values_array, mask_array, keep_vals)\u001b[0m\n\u001b[1;32m    196\u001b[0m \u001b[38;5;28;01mdef\u001b[39;00m \u001b[38;5;21mfind_common_rows\u001b[39m(values_array, mask_array, keep_vals:\u001b[38;5;28mbool\u001b[39m \u001b[38;5;241m=\u001b[39m \u001b[38;5;28;01mFalse\u001b[39;00m):\n\u001b[0;32m--> 197\u001b[0m     set1 \u001b[38;5;241m=\u001b[39m \u001b[43m{\u001b[49m\u001b[38;5;28;43mtuple\u001b[39;49m\u001b[43m(\u001b[49m\u001b[43mrow\u001b[49m\u001b[43m[\u001b[49m\u001b[43m:\u001b[49m\u001b[38;5;241;43m3\u001b[39;49m\u001b[43m]\u001b[49m\u001b[43m)\u001b[49m\u001b[43m:\u001b[49m\u001b[43m \u001b[49m\u001b[43mrow\u001b[49m\u001b[43m[\u001b[49m\u001b[38;5;241;43m3\u001b[39;49m\u001b[43m]\u001b[49m\u001b[43m \u001b[49m\u001b[38;5;28;43;01mfor\u001b[39;49;00m\u001b[43m \u001b[49m\u001b[43mrow\u001b[49m\u001b[43m \u001b[49m\u001b[38;5;129;43;01min\u001b[39;49;00m\u001b[43m \u001b[49m\u001b[43mvalues_array\u001b[49m\u001b[43m}\u001b[49m\n\u001b[1;32m    198\u001b[0m     set2 \u001b[38;5;241m=\u001b[39m \u001b[38;5;28mset\u001b[39m(\u001b[38;5;28mmap\u001b[39m(\u001b[38;5;28mtuple\u001b[39m, mask_array[:,:\u001b[38;5;241m3\u001b[39m]))\n\u001b[1;32m    199\u001b[0m     common_rows \u001b[38;5;241m=\u001b[39m np\u001b[38;5;241m.\u001b[39marray([\u001b[38;5;28mlist\u001b[39m(x) \u001b[38;5;241m+\u001b[39m ([set1[x]] \u001b[38;5;28;01mif\u001b[39;00m keep_vals \u001b[38;5;28;01melse\u001b[39;00m []) \u001b[38;5;28;01mfor\u001b[39;00m x \u001b[38;5;129;01min\u001b[39;00m set1\u001b[38;5;241m.\u001b[39mkeys() \u001b[38;5;241m&\u001b[39m set2])\n",
      "File \u001b[0;32m/home/rfpred/funcs/utility.py:197\u001b[0m, in \u001b[0;36m<dictcomp>\u001b[0;34m(.0)\u001b[0m\n\u001b[1;32m    196\u001b[0m \u001b[38;5;28;01mdef\u001b[39;00m \u001b[38;5;21mfind_common_rows\u001b[39m(values_array, mask_array, keep_vals:\u001b[38;5;28mbool\u001b[39m \u001b[38;5;241m=\u001b[39m \u001b[38;5;28;01mFalse\u001b[39;00m):\n\u001b[0;32m--> 197\u001b[0m     set1 \u001b[38;5;241m=\u001b[39m {\u001b[38;5;28mtuple\u001b[39m(row[:\u001b[38;5;241m3\u001b[39m]): \u001b[43mrow\u001b[49m\u001b[43m[\u001b[49m\u001b[38;5;241;43m3\u001b[39;49m\u001b[43m]\u001b[49m \u001b[38;5;28;01mfor\u001b[39;00m row \u001b[38;5;129;01min\u001b[39;00m values_array}\n\u001b[1;32m    198\u001b[0m     set2 \u001b[38;5;241m=\u001b[39m \u001b[38;5;28mset\u001b[39m(\u001b[38;5;28mmap\u001b[39m(\u001b[38;5;28mtuple\u001b[39m, mask_array[:,:\u001b[38;5;241m3\u001b[39m]))\n\u001b[1;32m    199\u001b[0m     common_rows \u001b[38;5;241m=\u001b[39m np\u001b[38;5;241m.\u001b[39marray([\u001b[38;5;28mlist\u001b[39m(x) \u001b[38;5;241m+\u001b[39m ([set1[x]] \u001b[38;5;28;01mif\u001b[39;00m keep_vals \u001b[38;5;28;01melse\u001b[39;00m []) \u001b[38;5;28;01mfor\u001b[39;00m x \u001b[38;5;129;01min\u001b[39;00m set1\u001b[38;5;241m.\u001b[39mkeys() \u001b[38;5;241m&\u001b[39m set2])\n",
      "\u001b[0;31mIndexError\u001b[0m: index 3 is out of bounds for axis 0 with size 3"
     ]
    }
   ],
   "source": [
    "# 1 min\n",
    "# hrf_dict_tight, voxmask_tight, joint_voxs, sizes  = get_hrf_dict('subj01', voxels = prf_mask_center_strict, prf_region = 'center_strict', \n",
    "#                                              min_size = .25, max_size = 1, prf_proc_dict = prf_dict, vox_n_cutoff = 150,plot_sizes = 'y')\n",
    "\n",
    "hrf_dict_tight, voxmask_tight, joint_voxs, sizes  = get_hrf_dict('subj01', voxels = prf_mask_center_strict, prf_region = 'center_strict', \n",
    "                                             min_size = .2, max_size = 2, prf_proc_dict = prf_dict, vox_n_cutoff = None ,plot_sizes = 'y')\n",
    "\n"
   ]
  },
  {
   "cell_type": "code",
   "execution_count": null,
   "metadata": {},
   "outputs": [],
   "source": [
    "# prf_mask_center_strict['subj01']['V1_mask'].shape\n",
    "prf_mask_center_strict_prf_rsq[0]['subj01']['V1_mask'].shape"
   ]
  },
  {
   "cell_type": "code",
   "execution_count": null,
   "metadata": {},
   "outputs": [],
   "source": [
    "prfgain = prf_dict['subj01']['nsd_dat']['eccentricity']['prf_dat']\n",
    "prfsok = prf_dict['subj01']['nsd_dat']['R2']['prf_dat']\n",
    "\n",
    "\n",
    "print(prfgain.shape)\n",
    "\n",
    "v1betas = hrf_dict_tight['subj01']['V1_mask']['roi_sizes'][:,:-1].astype('int')\n",
    "# print(v1betas)\n",
    "v1np = coords2numpy(v1betas, prfgain.shape)\n",
    "    \n",
    "    \n",
    "v1nii = nib.Nifti1Image(v1np.astype(np.int16), affine=np.eye(4))\n",
    "\n",
    "plotting.plot_stat_map(v1nii, display_mode = 'ortho')\n"
   ]
  },
  {
   "cell_type": "code",
   "execution_count": null,
   "metadata": {},
   "outputs": [],
   "source": [
    "from nilearn import plotting\n",
    "brain = vismask_dict['subj01']['V1_mask']\n",
    "\n",
    "ni_img = nib.Nifti1Image(brain.astype(np.int16), affine=np.eye(4))\n",
    "plotting.view_img(prfsok, display_mode = 'ortho')\n",
    "\n",
    "\n",
    "# plotting.plot_roi(prfgain, display_mode='ortho', cut_coords=(12, 68, 60), title='V1 Mask')\n",
    "\n"
   ]
  },
  {
   "cell_type": "code",
   "execution_count": null,
   "metadata": {},
   "outputs": [],
   "source": [
    "import torch\n",
    "import torchvision.models as models\n",
    "from torchvision import transforms\n",
    "from PIL import Image\n"
   ]
  },
  {
   "cell_type": "code",
   "execution_count": null,
   "metadata": {},
   "outputs": [],
   "source": [
    "imgnp = show_stim(img_no = 46002, small = 'y')[0]\n",
    "imgPIL = Image.fromarray(imgnp) # Convert into PIL from np\n",
    "imgt = transform(imgPIL) # Transform into the right format for alexnet\n",
    "img = imgt.unsqueeze(0) # add a batch dimension"
   ]
  },
  {
   "cell_type": "markdown",
   "metadata": {},
   "source": [
    "#################################"
   ]
  },
  {
   "cell_type": "code",
   "execution_count": null,
   "metadata": {},
   "outputs": [],
   "source": [
    "import torch.nn as nn\n",
    "\n",
    "class AlexNetConv4(nn.Module):\n",
    "    def __init__(self):\n",
    "        super(AlexNetConv4, self).__init__()\n",
    "        self.features = nn.Sequential(\n",
    "            # stop at conv4\n",
    "            *list(models.alexnet(pretrained=True).features.children())[:10]\n",
    "        )\n",
    "    def forward(self, x):\n",
    "        x = self.features(x)\n",
    "        return x\n",
    "\n",
    "model = AlexNetConv4()\n",
    "model.eval()"
   ]
  },
  {
   "cell_type": "code",
   "execution_count": null,
   "metadata": {},
   "outputs": [],
   "source": [
    "# Perform the forward pass\n",
    "with torch.no_grad():\n",
    "    img_out = model(img)"
   ]
  },
  {
   "cell_type": "markdown",
   "metadata": {},
   "source": [
    "#########################################################"
   ]
  },
  {
   "cell_type": "code",
   "execution_count": null,
   "metadata": {},
   "outputs": [],
   "source": [
    "import torch\n",
    "import torchvision.models as models\n",
    "\n",
    "# Load the pretrained AlexNet model\n",
    "model = models.alexnet(pretrained=True)\n",
    "model.eval()  # Set the model to evaluation mode\n"
   ]
  },
  {
   "cell_type": "code",
   "execution_count": null,
   "metadata": {},
   "outputs": [],
   "source": [
    "from torch.nn import Module\n",
    "\n",
    "class AlexNetFeatureExtractor(Module):\n",
    "    def __init__(self, model):\n",
    "        super(AlexNetFeatureExtractor, self).__init__()\n",
    "        # Assuming you want to capture outputs after each max pooling layer\n",
    "        self.features = model.features\n",
    "        self.layer1 = torch.nn.Sequential(*list(self.features.children())[:3])  # Up to first max pooling\n",
    "        self.layer2 = torch.nn.Sequential(*list(self.features.children())[3:6])  # Up to second max pooling\n",
    "        self.layer3 = torch.nn.Sequential(*list(self.features.children())[6:8])  # Up to third max pooling\n",
    "        self.layer4 = torch.nn.Sequential(*list(self.features.children())[8:10])  # Up to fourth max pooling\n",
    "        self.layer5 = torch.nn.Sequential(*list(self.features.children())[10:13])  # Up to fifth max pooling\n",
    "\n",
    "    def forward(self, x):\n",
    "        x1 = self.layer1(x)\n",
    "        x2 = self.layer2(x1)\n",
    "        x3 = self.layer3(x2)\n",
    "        x4 = self.layer4(x3)\n",
    "        x5 = self.layer5(x4)\n",
    "        return x1, x2, x3, x4, x5\n"
   ]
  },
  {
   "cell_type": "code",
   "execution_count": null,
   "metadata": {},
   "outputs": [],
   "source": [
    "from torch.nn import Module\n",
    "\n",
    "class AlexNetFeatureExtractor(Module):\n",
    "    def __init__(self, model):\n",
    "        super(AlexNetFeatureExtractor, self).__init__()\n",
    "        # Assuming you want to capture outputs after each max pooling layer\n",
    "        self.features = model.features\n",
    "        self.layer1 = torch.nn.Sequential(*list(self.features.children())[:3])  # Up to first max pooling\n",
    "        self.layer2 = torch.nn.Sequential(*list(self.features.children())[3:6])  # Up to second max pooling\n",
    "        self.layer3 = torch.nn.Sequential(*list(self.features.children())[6:8])  # Up to third max pooling\n",
    "        self.layer4 = torch.nn.Sequential(*list(self.features.children())[8:10])  # Up to fourth max pooling\n",
    "        self.layer5 = torch.nn.Sequential(*list(self.features.children())[10:13])  # Up to fifth max pooling\n",
    "\n",
    "    def forward(self, x):\n",
    "        x1 = self.layer1(x)\n",
    "        x2 = self.layer2(x1)\n",
    "        x3 = self.layer3(x2)\n",
    "        x4 = self.layer4(x3)\n",
    "        x5 = self.layer5(x4)\n",
    "        return x1, x2, x3, x4, x5\n",
    "\n",
    "feature_extractor = AlexNetFeatureExtractor(model)"
   ]
  },
  {
   "cell_type": "markdown",
   "metadata": {},
   "source": [
    "#### This one works for the full 425x425 images"
   ]
  },
  {
   "cell_type": "code",
   "execution_count": null,
   "metadata": {},
   "outputs": [],
   "source": [
    "from torchvision import transforms\n",
    "from PIL import Image\n",
    "\n",
    "# Load and preprocess the image\n",
    "# img = Image.open('path_to_your_image.jpg')\n",
    "img = imgPIL\n",
    "preprocess = transforms.Compose([\n",
    "    transforms.Resize(256),  # Resize so the smallest side is 256\n",
    "    transforms.CenterCrop(227),  # Crop a 227x227 patch from the center\n",
    "    transforms.ToTensor(),\n",
    "    transforms.Normalize(mean=[0.485, 0.456, 0.406], std=[0.229, 0.224, 0.225]),\n",
    "])\n",
    "img_tensor = preprocess(img).unsqueeze(0)  # Add batch dimension\n"
   ]
  },
  {
   "cell_type": "markdown",
   "metadata": {},
   "source": [
    "#### This is for the 100x100 crops"
   ]
  },
  {
   "cell_type": "code",
   "execution_count": null,
   "metadata": {},
   "outputs": [],
   "source": [
    "from torchvision import transforms\n",
    "from PIL import Image\n",
    "\n",
    "imgnp = show_stim(img_no = 1884, small = 'y')[0][163:263,163:263]\n",
    "imgPIL = Image.fromarray(imgnp) # Convert into PIL from np\n",
    "# imgt = transform(imgPIL) # Transform into the right format for alexnet\n",
    "# img = imgt.unsqueeze(0) # add a batch dimension\n",
    "# img = imgPIL\n",
    "preprocess = transforms.Compose([\n",
    "    transforms.Resize(227),  # Resize the image to 227x227 pixels\n",
    "    transforms.ToTensor(),\n",
    "    transforms.Normalize(mean=[0.485, 0.456, 0.406], std=[0.229, 0.224, 0.225]),\n",
    "])\n",
    "img_tensor = preprocess(imgPIL).unsqueeze(0)  # Add batch dimension\n"
   ]
  },
  {
   "cell_type": "code",
   "execution_count": null,
   "metadata": {},
   "outputs": [],
   "source": [
    "plt.imshow(imgnp)\n",
    "plt.axis('off')"
   ]
  },
  {
   "cell_type": "code",
   "execution_count": null,
   "metadata": {},
   "outputs": [],
   "source": [
    "import matplotlib.pyplot as plt\n",
    "import numpy as np\n",
    "\n",
    "def plot_features(features, num_cols=5):\n",
    "    # Choose a single layer output to visualize\n",
    "    layer_features = features[0]  # For example, visualize the first layer outputs\n",
    "    num_features = layer_features.shape[1]  # Number of channels in the selected layer\n",
    "\n",
    "    num_rows = (num_features + num_cols - 1) // num_cols\n",
    "    fig, axes = plt.subplots(num_rows, num_cols, figsize=(num_cols * 2, num_rows * 2))\n",
    "    \n",
    "    for i in range(num_rows * num_cols):\n",
    "        ax = axes[i // num_cols, i % num_cols]\n",
    "        if i < num_features:\n",
    "            # Normalize feature map for better visualization\n",
    "            feature_map = layer_features[0, i].detach().numpy()\n",
    "            feature_map = (feature_map - feature_map.min()) / (feature_map.max() - feature_map.min())\n",
    "            ax.imshow(feature_map, cmap='grey')\n",
    "        ax.axis('off')\n",
    "\n",
    "    plt.show()\n",
    "\n",
    "# Assuming you have initialized and passed the image through the feature_extractor\n",
    "features = feature_extractor(img_tensor)\n",
    "plot_features(features)\n"
   ]
  },
  {
   "cell_type": "markdown",
   "metadata": {},
   "source": [
    "#########################################"
   ]
  },
  {
   "cell_type": "code",
   "execution_count": null,
   "metadata": {},
   "outputs": [],
   "source": [
    "import torch\n",
    "import torchvision.models as models\n",
    "\n",
    "# Load the pretrained AlexNet model\n",
    "alexnet = models.alexnet(pretrained=True)\n",
    "alexnet.eval()\n"
   ]
  },
  {
   "cell_type": "code",
   "execution_count": null,
   "metadata": {},
   "outputs": [],
   "source": [
    "from torchvision import transforms\n",
    "from PIL import Image\n",
    "\n",
    "# Define the image transformation\n",
    "preprocess = transforms.Compose([\n",
    "    transforms.Resize(227),\n",
    "    transforms.CenterCrop(227),\n",
    "    transforms.ToTensor(),\n",
    "    transforms.Normalize(mean=[0.485, 0.456, 0.406], std=[0.229, 0.224, 0.225]),\n",
    "])\n",
    "\n",
    "# Load your image\n",
    "img = Image.fromarray(show_stim(small = 'y')[0])\n",
    "img_tensor = preprocess(img).unsqueeze(0)  # Add batch dimension\n"
   ]
  },
  {
   "cell_type": "code",
   "execution_count": null,
   "metadata": {},
   "outputs": [],
   "source": [
    "from torch import nn\n",
    "\n",
    "class AlexNetFeatureExtractor(nn.Module):\n",
    "    def __init__(self, model):\n",
    "        super(AlexNetFeatureExtractor, self).__init__()\n",
    "        self.features = model.features\n",
    "        self.avgpool = model.avgpool\n",
    "\n",
    "    def forward(self, x):\n",
    "        x = self.features(x)\n",
    "        x = self.avgpool(x)\n",
    "        x = torch.flatten(x, 1)\n",
    "        return x\n",
    "\n",
    "# Initialize the feature extractor\n",
    "feature_extractor = AlexNetFeatureExtractor(alexnet)\n",
    "\n",
    "# Extract features\n",
    "features = feature_extractor(img_tensor)\n"
   ]
  },
  {
   "cell_type": "code",
   "execution_count": null,
   "metadata": {},
   "outputs": [],
   "source": [
    "from funcs.imgproc import rand_img_list\n",
    "\n",
    "n_imgs = 10000\n",
    "imgs, _,_ = rand_img_list(n_imgs, asPIL = False, add_masks = False, select_ices = get_imgs_designmx()[0]['subj01'][:n_imgs])\n",
    "\n",
    "\n",
    "\n",
    "def get_alexnet_features(imgs):\n",
    "    \n",
    "    # Load your image\n",
    "    # img = Image.fromarray(show_stim(small = 'y')[0])\n",
    "    for n, img in enumerate(imgs):\n",
    "        print(n)\n",
    "        img = Image.fromarray(img[163:263,163:263])\n",
    "        img_tensor = preprocess(img).unsqueeze(0) # Add batch dimension\n",
    "        features = feature_extractor(img_tensor)\n",
    "        print(features)\n",
    "        if n == 0:\n",
    "            all_feats = np.zeros((features.shape[1], len(imgs)))\n",
    "        all_feats[:,n] = features.detach().numpy()\n",
    "    return all_feats\n"
   ]
  },
  {
   "cell_type": "code",
   "execution_count": null,
   "metadata": {},
   "outputs": [],
   "source": [
    "ft = get_alexnet_features(imgs)"
   ]
  },
  {
   "cell_type": "code",
   "execution_count": null,
   "metadata": {},
   "outputs": [],
   "source": [
    "plt.plot(ft[:,0])\n",
    "plt.plot(ft[:,1])\n",
    "plt.plot(ft[:,2])\n",
    "plt.plot(ft[:,3])\n",
    "plt.plot(ft[:,4])"
   ]
  },
  {
   "cell_type": "code",
   "execution_count": null,
   "metadata": {},
   "outputs": [],
   "source": [
    "hrf_dict_tight['subj01']['V1_mask'].keys()"
   ]
  },
  {
   "cell_type": "code",
   "execution_count": null,
   "metadata": {},
   "outputs": [],
   "source": [
    "def get_beta_selection(subject = 'subj01', roi = 'V1_mask', n_voxels = 10, n_imgs = 100, hrf_dict = None):\n",
    "    vox_ids = list(hrf_dict[subject][roi].keys())\n",
    "    y = np.zeros((n_imgs, n_voxels))\n",
    "    for vox in range(n_voxels):\n",
    "        vox_id = vox_ids[vox]\n",
    "        \n",
    "        y[:,vox] = hrf_dict[subject][roi][vox_id]['hrf_betas'][:n_imgs]\n",
    "        \n",
    "        \n",
    "    return y\n",
    "# hrf_dict_tight['subj01']['V1_mask']['voxel1']['hrf_betas'].shape\n",
    "\n",
    "bets = get_beta_selection(subject = 'subj01', roi = 'V1_mask', n_voxels = 5, n_imgs = 10000, hrf_dict = hrf_dict_tight)"
   ]
  },
  {
   "cell_type": "code",
   "execution_count": null,
   "metadata": {},
   "outputs": [],
   "source": [
    "bets.shape"
   ]
  },
  {
   "cell_type": "code",
   "execution_count": null,
   "metadata": {},
   "outputs": [],
   "source": [
    "if ft.shape[0] != n_imgs:\n",
    "    ft = ft.T\n",
    "ft.shape\n"
   ]
  },
  {
   "cell_type": "code",
   "execution_count": null,
   "metadata": {},
   "outputs": [],
   "source": [
    "from sklearn.cross_decomposition import PLSRegression\n",
    "\n",
    "# Assuming 'features' is a matrix of features from your images\n",
    "# and 'betas' is a matrix of HRF betas from your fMRI dataset\n",
    "pls = PLSRegression(n_components=40)\n",
    "pls.fit(ft, bets)\n",
    "# pls.fit(features.numpy(), betas)\n",
    "\n",
    "\n",
    "# You can now use pls to predict, analyze coefficients, etc.\n"
   ]
  },
  {
   "cell_type": "code",
   "execution_count": null,
   "metadata": {},
   "outputs": [],
   "source": [
    "coefficients = pls.coef_\n"
   ]
  },
  {
   "cell_type": "code",
   "execution_count": null,
   "metadata": {},
   "outputs": [],
   "source": [
    "def calculate_vip(model):\n",
    "    t = model.x_scores_  # Scores\n",
    "    w = model.x_weights_  # Weights\n",
    "    q = model.y_loadings_  # Loadings\n",
    "\n",
    "    p, h = w.shape\n",
    "    vips = np.zeros((p,))\n",
    "    \n",
    "    s = np.diag(t.T @ t @ q.T @ q).reshape(h, -1)\n",
    "    total_s = np.sum(s)\n",
    "    \n",
    "    for i in range(p):\n",
    "        weight = np.array([(w[i, j] / np.linalg.norm(w[:, j]))**2 for j in range(h)])\n",
    "        vips[i] = np.sqrt(p * (s.T @ weight) / total_s)\n",
    "    \n",
    "    return vips\n",
    "\n",
    "vip_scores = calculate_vip(pls)\n",
    "print(vip_scores)"
   ]
  },
  {
   "cell_type": "code",
   "execution_count": null,
   "metadata": {},
   "outputs": [],
   "source": [
    "import matplotlib.pyplot as plt\n",
    "\n",
    "# Plotting the scores\n",
    "plt.figure(figsize=(10, 6))\n",
    "plt.scatter(pls.x_scores_[:, 0], pls.x_scores_[:, 1], c='blue', label='PLS Scores')\n",
    "plt.xlabel('PLS Component 1')\n",
    "plt.ylabel('PLS Component 2')\n",
    "plt.title('PLS Score Plot')\n",
    "plt.legend()\n",
    "plt.show()\n"
   ]
  },
  {
   "cell_type": "code",
   "execution_count": null,
   "metadata": {},
   "outputs": [],
   "source": [
    "from sklearn.model_selection import cross_val_predict\n",
    "from sklearn.metrics import mean_squared_error, r2_score\n",
    "\n",
    "# Cross-validation predictions\n",
    "y_cv = cross_val_predict(pls, ft, bets, cv=5)\n",
    "\n",
    "# Calculate metrics\n",
    "mse = mean_squared_error(bets, y_cv)\n",
    "r2 = r2_score(bets, y_cv)\n",
    "\n",
    "print(f'MSE: {mse}')\n",
    "print(f'R^2: {r2}')\n"
   ]
  },
  {
   "cell_type": "code",
   "execution_count": null,
   "metadata": {},
   "outputs": [],
   "source": [
    "n_imgs = 10000\n",
    "# start = n_imgs + random.randint(0,72999-n_imgs)\n",
    "start = 15000\n",
    "new_imgs, _,_ = rand_img_list(n_imgs, asPIL = False, add_masks = False, select_ices = get_imgs_designmx()[0]['subj01'][start:n_imgs+start])\n",
    "# new_imgs = [Image.fromarray(sokje[163:263,163:263]) for sokje in new_imgs]\n",
    "new_features = get_alexnet_features(new_imgs).T"
   ]
  },
  {
   "cell_type": "code",
   "execution_count": null,
   "metadata": {},
   "outputs": [],
   "source": [
    "if new_features.shape[0] != n_imgs:\n",
    "    new_features = new_features.T\n",
    "new_features.shape\n",
    "# Predicting new data (assuming 'new_features' is your new dataset)\n",
    "new_betas_predicted = pls.predict(new_features)\n"
   ]
  },
  {
   "cell_type": "code",
   "execution_count": null,
   "metadata": {},
   "outputs": [],
   "source": [
    "import matplotlib.pyplot as plt\n",
    "\n",
    "# Example: Plotting the predicted beta values\n",
    "plt.figure(figsize=(10, 10))\n",
    "plt.plot(new_betas_predicted[100:175], 'ro-', label='Predicted Betas')\n",
    "plt.plot(bets[100:175], 'bo-', label='Predicted Betas')\n",
    "plt.title('Predicted HRF Betas from New Images')\n",
    "plt.xlabel('Image Index')\n",
    "plt.ylabel('Predicted Beta Value')\n",
    "plt.legend()\n",
    "plt.show()\n"
   ]
  },
  {
   "cell_type": "code",
   "execution_count": null,
   "metadata": {},
   "outputs": [],
   "source": [
    "import matplotlib.pyplot as plt\n",
    "import numpy as np\n",
    "\n",
    "# Assuming 'actual_values' and 'predicted_values' are your datasets\n",
    "actual_values = bets  # This should be your actual data\n",
    "# predicted_values = pls.predict(features.numpy())  # Predict using your PLS model\n",
    "predicted_values = pls.predict(new_features)\n",
    "# Create a scatter plot of actual vs predicted values\n",
    "plt.figure(figsize=(8, 6))\n",
    "plt.scatter(actual_values, predicted_values, alpha=0.5, color='blue', label='Predicted vs Actual')\n",
    "plt.title('Fit Plot for PLS Model')\n",
    "plt.xlabel('Actual Values')\n",
    "plt.ylabel('Predicted Values')\n",
    "\n",
    "# Plot a line of perfect fit\n",
    "line = np.linspace(min(actual_values.min(), predicted_values.min()), max(actual_values.max(), predicted_values.max()), 100)\n",
    "plt.plot(line, line, color='red', linewidth=2, linestyle='--', label='Perfect Fit')\n",
    "\n",
    "plt.legend()\n",
    "plt.show()\n"
   ]
  },
  {
   "cell_type": "code",
   "execution_count": null,
   "metadata": {},
   "outputs": [],
   "source": [
    "import numpy as np\n",
    "import matplotlib.pyplot as plt\n",
    "from sklearn.cross_decomposition import PLSRegression\n",
    "from sklearn.metrics import mean_squared_error, r2_score\n",
    "\n",
    "# Assuming 'features' and 'betas' are your datasets\n",
    "# X = features.numpy()  # Convert to numpy if not already\n",
    "X = ft\n",
    "Y = bets\n",
    "\n",
    "# Lists to store the metrics\n",
    "r2_scores = []\n",
    "mse_scores = []\n",
    "component_range = range(10, 25)  # Adjust the range based on your dataset and needs\n",
    "\n",
    "for n_components in component_range:\n",
    "    pls = PLSRegression(n_components=n_components)\n",
    "    pls.fit(X, Y)\n",
    "    Y_pred = pls.predict(X)\n",
    "    \n",
    "    # Calculate metrics\n",
    "    r2 = r2_score(Y, Y_pred)\n",
    "    mse = mean_squared_error(Y, Y_pred)\n",
    "    \n",
    "    r2_scores.append(r2)\n",
    "    mse_scores.append(mse)\n",
    "\n",
    "# Plotting the results\n",
    "plt.figure(figsize=(12, 6))\n",
    "\n",
    "plt.subplot(1, 2, 1)\n",
    "plt.plot(component_range, r2_scores, marker='o', linestyle='-', color='b')\n",
    "plt.title('R² Score vs. Number of Components')\n",
    "plt.xlabel('Number of Components')\n",
    "plt.ylabel('R² Score')\n",
    "plt.grid(True)\n",
    "\n",
    "plt.subplot(1, 2, 2)\n",
    "plt.plot(component_range, mse_scores, marker='o', linestyle='-', color='r')\n",
    "plt.title('MSE vs. Number of Components')\n",
    "plt.xlabel('Number of Components')\n",
    "plt.ylabel('MSE')\n",
    "plt.grid(True)\n",
    "\n",
    "plt.tight_layout()\n",
    "plt.show()\n"
   ]
  },
  {
   "cell_type": "code",
   "execution_count": null,
   "metadata": {},
   "outputs": [],
   "source": []
  }
 ],
 "metadata": {
  "kernelspec": {
   "display_name": "Python 3",
   "language": "python",
   "name": "python3"
  },
  "language_info": {
   "codemirror_mode": {
    "name": "ipython",
    "version": 3
   },
   "file_extension": ".py",
   "mimetype": "text/x-python",
   "name": "python",
   "nbconvert_exporter": "python",
   "pygments_lexer": "ipython3",
   "version": "3.11.7"
  }
 },
 "nbformat": 4,
 "nbformat_minor": 2
}
