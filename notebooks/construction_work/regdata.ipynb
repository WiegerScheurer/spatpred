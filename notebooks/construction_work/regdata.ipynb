{
 "cells": [
  {
   "cell_type": "code",
   "execution_count": null,
   "metadata": {},
   "outputs": [],
   "source": [
    "folder = \"encoding\"\n",
    "model = \"alex\"\n",
    "\n",
    "results = rd(subject=\"subj01\", folder=folder, model=model, statistic=\"delta_r\")\n",
    "results._normalize_per_voxel()\n",
    "results._weigh_mean_layer()\n",
    "results._get_max_layer()\n",
    "\n",
    "results.assign_layers(\n",
    "    max_or_weighted=\"weighted\",\n",
    "    title=\"Unpredictability layer assignment of voxels across visual cortex\\nVGG-b, ΔR based (Baseline vs. Baseline + Unpredictability)\",\n",
    ")\n",
    "results.assign_layers(max_or_weighted=\"max\")\n",
    "\n",
    "assign_stat = \"Mean Weighted Layer\"\n",
    "\n",
    "if assign_stat == \"Mean Weighted Layer\":\n",
    "    stat_str = \"weighted\"\n",
    "elif assign_stat == \"Max Layer\":\n",
    "    stat_str = \"max\"\n",
    "\n",
    "new_df = results.df[[\"x\", \"y\", \"z\", assign_stat]]\n",
    "# new_df = results.df[['x', 'y', 'z', 'Max Layer']]\n",
    "NSP.utils.coords2nifti(\n",
    "    \"subj01\",\n",
    "    prf_dict,\n",
    "    new_df.values,\n",
    "    keep_vals=True,\n",
    "    save_nifti=True,\n",
    "    save_path=f\"{NSP.own_datapath}/subj01/surf_niftis/{folder}_{model}_layassign_{stat_str}.nii\",\n",
    ")\n",
    "\n",
    "# visualise the nifti\n",
    "img = nib.load(\n",
    "    f\"{NSP.own_datapath}/subj01/surf_niftis/{folder}_{model}_layassign_{stat_str}.nii\"\n",
    ")\n",
    "plotting.plot_stat_map(\n",
    "    img,\n",
    "    threshold=0.5,\n",
    "    display_mode=\"ortho\",\n",
    "    cut_coords=(0, 0, 0),\n",
    "    title=f\"{assign_stat} Layer Assignment of Voxels Across Visual Cortex\\n{model}, ΔR based (Baseline vs. Baseline + Unpredictability)\",\n",
    ")"
   ]
  },
  {
   "cell_type": "code",
   "execution_count": null,
   "metadata": {},
   "outputs": [],
   "source": [
    "results = RegData(folder=\"unpred\", model=\"vgg-b\", statistic=\"delta_r\")\n",
    "results.mean_lines(plot_catplot=False)\n",
    "\n",
    "\n",
    "results._normalize_per_voxel()\n",
    "results.assign_layers(\"weighted\")\n",
    "results.mean_lines(plot_catplot=False)"
   ]
  }
 ],
 "metadata": {
  "language_info": {
   "name": "python"
  }
 },
 "nbformat": 4,
 "nbformat_minor": 2
}
